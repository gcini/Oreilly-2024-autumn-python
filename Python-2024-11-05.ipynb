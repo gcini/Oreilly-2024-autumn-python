{
 "cells": [
  {
   "cell_type": "markdown",
   "metadata": {},
   "source": [
    "# Agenda\n",
    "\n",
    "1. Week 1\n",
    "    - What is a programming language? What is Python?\n",
    "    - Values, assignment, and variables\n",
    "    - `print` and displaying values\n",
    "    - Jupyter notebook and how to use it\n",
    "    - Getting input from the user\n",
    "    - Different types of values (and how to work with them)\n",
    "    - Comparing values\n",
    "    - Making decisions with `if` and `else` (and then `elif`, `and`, `or`, and `not`)\n",
    "    - Numeric data structures (`int` and `float`)\n",
    "    - Textual data (strings, aka `str`)\n",
    "    - A little about methods\n",
    "2. Week 2: Loops, lists, and tuples\n",
    "    - Different kinds of loops in Python (`for` and `while`)\n",
    "    - Lists (a different data structure)\n",
    "        - How are they similar to, and different from, strings?\n",
    "        - Converting strings to lists, a"
   ]
  },
  {
   "cell_type": "code",
   "execution_count": null,
   "metadata": {},
   "outputs": [],
   "source": []
  }
 ],
 "metadata": {
  "kernelspec": {
   "display_name": "Python 3 (ipykernel)",
   "language": "python",
   "name": "python3"
  },
  "language_info": {
   "codemirror_mode": {
    "name": "ipython",
    "version": 3
   },
   "file_extension": ".py",
   "mimetype": "text/x-python",
   "name": "python",
   "nbconvert_exporter": "python",
   "pygments_lexer": "ipython3",
   "version": "3.13.0"
  }
 },
 "nbformat": 4,
 "nbformat_minor": 4
}
