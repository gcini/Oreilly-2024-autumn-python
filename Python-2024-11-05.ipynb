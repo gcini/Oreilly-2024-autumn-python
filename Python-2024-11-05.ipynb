{
 "cells": [
  {
   "cell_type": "markdown",
   "metadata": {},
   "source": [
    "# Agenda\n",
    "\n",
    "1. Week 1\n",
    "    - What is a programming language? What is Python?\n",
    "    - Values, assignment, and variables\n",
    "    - `print` and displaying values\n",
    "    - Jupyter notebook and how to use it\n",
    "    - Getting input from the user\n",
    "    - Different types of values (and how to work with them)\n",
    "    - Comparing values\n",
    "    - Making decisions with `if` and `else` (and then `elif`, `and`, `or`, and `not`)\n",
    "    - Numeric data structures (`int` and `float`)\n",
    "    - Textual data (strings, aka `str`)\n",
    "    - A little about methods\n",
    "2. Week 2: Loops, lists, and tuples\n",
    "    - Different kinds of loops in Python (`for` and `while`)\n",
    "    - Lists (a different data structure)\n",
    "        - How are they similar to, and different from, strings?\n",
    "        - Converting strings to lists, and back\n",
    "        - List methods\n",
    "    - Tuples (another data structure)\n",
    "        - How are they similar to and different from lists?\n",
    "        - Tuple unpacking\n",
    "3. Dictionaries and files\n",
    "    - Dictionaries (`dict`) are the most powerful and important data structure in Python\n",
    "        - Creating\n",
    "        - Retrieving from them\n",
    "        - Iterating over them in a `for` loop\n",
    "        - Dict methods\n",
    "        - How are dicts used?\n",
    "        - How are dicts implemented behind the scenes?\n",
    "    - Files (plain-text files)\n",
    "        - Why do we need special data structures for working with files?\n",
    "        - How to read file data into our program\n",
    "        - (A little about) how to write data from our program to a file\n",
    "4. Functions\n",
    "    - What are functions?\n",
    "    - Defining simple functions\n",
    "    - Return values\n",
    "    - Arguments and parameters\n",
    "    - Fancy ways to return values\n",
    "    - Some fancy parameter types\n",
    "5. Modules and packages\n",
    "    - Why do we need these?\n",
    "    - Different ways to `import` modules into Python, and to use the functions/data they define\n",
    "    - Python standard library\n",
    "    - PyPI and `pip`, for using and installing third-party modules\n",
    "    - Where to go from here?"
   ]
  },
  {
   "cell_type": "markdown",
   "metadata": {},
   "source": [
    "# How do you use Python in this class?\n",
    "\n",
    "1. Use Google Colab, which gives you a very, very similar environment to Jupyter.\n",
    "2. Install Python and Jupyter on your own computer.\n",
    "    - Python Environment Setup Shortcuts - Video Edition: https://learning.oreilly.com/playlists/3c416ef8-3bce-4b5a-99e1-eae55582afd1/\n",
    "3. Use someone else's computer where it is installed"
   ]
  },
  {
   "cell_type": "code",
   "execution_count": null,
   "metadata": {},
   "outputs": [],
   "source": []
  },
  {
   "cell_type": "markdown",
   "metadata": {},
   "source": [
    "# A 5-minute introduction to Jupyter\n",
    "\n",
    "Jupyter gives us the illusion of writing Python in our browser. In actuality, there is a server behind the scenes where Python code is being run. But the illusion is *really* strong and useful.\n",
    "\n",
    "Working with Jupyter means working with \"cells.\" I'm typing into a cell right now. There are two modes of interaction with Jupyter:\n",
    "\n",
    "- Edit mode, when typing puts text into the cell. (I'm currently in edit mode.) To enter edit mode, click inside of a cell or press ENTER. You can see the background and/or outline of the cell are a certain way in edit mode.\n",
    "- Command mode, when typing tells Jupyter what you want to do, and doesn't actually enter text into a cell. To enter command mode, click to the left of a cell or press ESC.\n",
    "\n",
    "What commands can I use in command mode?\n",
    "- `c` -- copy the current cell\n",
    "- `x` -- cut the current cell\n",
    "- `v` -- paste the most recently cut/copied cell\n",
    "- `a` -- create a new cell *above* the current one\n",
    "- `b` -- create a new cell *below* the current one\n",
    "- `m` -- change a cell's format to \"Markdown,\" like it's in now, for formatted text/documentation\n",
    "- `y` -- change a cell's format to Python, for executable code\n",
    "\n",
    "When you're done either writing text or writing code, you can press shift+ENTER to \"execute\" the current cell."
   ]
  },
  {
   "cell_type": "markdown",
   "metadata": {},
   "source": [
    "# What is a programming language? What is Python?\n",
    "\n",
    "When computers were invented, each computer solved a new, specific problem. To solve new problems, you needed a new computer. Pretty soon, people created general-purpose computers, where you could use the same hardware to solve many different problems. You just needed to give different instructions each time.\n",
    "\n",
    "How did you write those instructions?\n",
    "\n",
    "- Binary (1s and 0s), which people are very bad at writing.\n",
    "- Programming language, where you write something that looks sort of like English, but is then translated into 1s and 0s for the computer\n",
    "\n",
    "There are many, *many* programming languages out there. Each has its own trade-offs.  All are very precise and explicit about what we want the computer to do:\n",
    "\n",
    "- Some are easy for people to write and read\n",
    "- Some are harder for people to write and read, but that makes it easier for the translation process to turn the code into 1s and 0s\n",
    "- Some are good at text, some good at math, some good at security, some good at reliability\n",
    "\n",
    "Some programming languages:\n",
    "- C, which is very \"low level,\" close to the 1s and 0s, but it runs super super fast\n",
    "- C++, which adds a number of new techniques to C (\"object-oriented programming\")\n",
    "- Java, which tries to be easier to understand/use than C++, and is still quite fast, but not as fast as C/C++\n",
    "- Python, which doesn't try to be fast at execution, but is fast for people to read/write\n",
    "\n",
    "Python isn't aiming for writing super-fast programs. But it does try to save us time when we write and debug and maintain our code.\n",
    "\n",
    "I think that Python is a perfect language for an age in which people are expensive and computers are cheap.\n",
    "\n",
    "Python is now popular:\n",
    "- the #1 language for data science, analytics, and machine learning\n",
    "- System administration and devops\n",
    "- Web application development\n",
    "- Testing of hardware and software\n",
    "- Education -- most universities now teach Python as the first programming language to all students, including CS majors\n",
    "\n",
    "As of last week, Python was the most popularly used language on GitHub (a repository for code sharing).\n",
    "\n"
   ]
  },
  {
   "cell_type": "code",
   "execution_count": 1,
   "metadata": {},
   "outputs": [
    {
     "name": "stdout",
     "output_type": "stream",
     "text": [
      "Hello, world!\n"
     ]
    }
   ],
   "source": [
    "# our first Python program -- this is a comment, completely ignored by Python, from # to the end of the line\n",
    "# we can have as many comments as we want; they are meant for the humans who will read/maintain our code (including ourselves)\n",
    "\n",
    "# to display something on the screen, we will use the \"print\" function. A function is a verb in programming, and we activate\n",
    "# it, or get it to run, with (). \n",
    "\n",
    "# Inside of the parentheses, we'll pass a noun, a piece of data. In this case, the data is a text string, which we can\n",
    "# see has quotes around it. You can use either single quotes (`''`) or double quotes (`\"\"`) in Python; they work exactly\n",
    "# the same way. Just make sure that you use the same type of quote at the start and end.\n",
    "\n",
    "# I wrote my code, and then I pressed shift+ENTER\n",
    "\n",
    "print('Hello, world!')"
   ]
  },
  {
   "cell_type": "code",
   "execution_count": 2,
   "metadata": {},
   "outputs": [
    {
     "name": "stdout",
     "output_type": "stream",
     "text": [
      "5\n"
     ]
    }
   ],
   "source": [
    "# can I print anything else? Yes... we can print numbers\n",
    "\n",
    "print(5)"
   ]
  },
  {
   "cell_type": "code",
   "execution_count": 3,
   "metadata": {},
   "outputs": [
    {
     "name": "stdout",
     "output_type": "stream",
     "text": [
      "8\n"
     ]
    }
   ],
   "source": [
    "# we can also use *expressions*, where we combine values and get new values\n",
    "\n",
    "print(5 + 3)    # here, Python sees (5+3), adds 5+3 together, gets 8, and then print only knows that it's supposed to print 8"
   ]
  },
  {
   "cell_type": "code",
   "execution_count": 4,
   "metadata": {},
   "outputs": [
    {
     "name": "stdout",
     "output_type": "stream",
     "text": [
      "hello, world\n"
     ]
    }
   ],
   "source": [
    "# can I do that with text, too?\n",
    "\n",
    "print('hello, ' + 'world')"
   ]
  },
  {
   "cell_type": "markdown",
   "metadata": {},
   "source": [
    "# Combining things with `+`\n",
    "\n",
    "The `+` operator (i.e., symbol that does something) lets us add together\n",
    "\n",
    "- Two integers (whole numbers)\n",
    "- Two text strings (`str`)\n",
    "\n",
    "We get a value back, and we can pass it to `print`"
   ]
  },
  {
   "cell_type": "code",
   "execution_count": 5,
   "metadata": {},
   "outputs": [
    {
     "name": "stdout",
     "output_type": "stream",
     "text": [
      "Hello, Reuven\n"
     ]
    }
   ],
   "source": [
    "print('Hello, ' + 'Reuven')"
   ]
  },
  {
   "cell_type": "code",
   "execution_count": 6,
   "metadata": {},
   "outputs": [
    {
     "name": "stdout",
     "output_type": "stream",
     "text": [
      "Hello, Reuven!\n"
     ]
    }
   ],
   "source": [
    "print('Hello, ' + 'Reuven' + '!')"
   ]
  },
  {
   "cell_type": "code",
   "execution_count": 7,
   "metadata": {},
   "outputs": [],
   "source": [
    "# this gets kind of annoying after a while... maybe I want to have a more generic program that can\n",
    "# print someone's name.\n",
    "\n",
    "# I can assign a value to a variable"
   ]
  },
  {
   "cell_type": "markdown",
   "metadata": {},
   "source": [
    "# Assignment\n",
    "\n",
    "If I have a value that I want to use more than once, then it's helpful to store it in a variable. If data in a program can be thought of as nouns, then variables can be thought of as pronouns, referring to that data.\n",
    "\n",
    "To assign a variable to a value, just use the `=` operator, the assignment operator.\n",
    "\n",
    "It looks like this:\n",
    "\n",
    "    x = 10\n",
    "\n",
    "1. You don't need to declare your variable in advance. In fact, Python doesn't have anything like \"variable declarations.\"\n",
    "2. The first time you assign to a variable, it is created.\n",
    "3. The next time you assign to a varible, its value is given the new thing you wanted.\n",
    "4. Assignment always works from right to left -- first, the right side is evaluated (if it's an expression or variable), and then it's assign to the variable on the left.\n",
    "5. You can use a varible instead of the value itself."
   ]
  },
  {
   "cell_type": "code",
   "execution_count": 9,
   "metadata": {},
   "outputs": [
    {
     "name": "stdout",
     "output_type": "stream",
     "text": [
      "15\n"
     ]
    }
   ],
   "source": [
    "# in Python, the end of a line is the end of a command/expression\n",
    "\n",
    "x = 5\n",
    "y = 10\n",
    "\n",
    "print(x + y)   # Python first finds that x is 5, then y is 10, adds them together (15), and then hands that value (15) to print"
   ]
  },
  {
   "cell_type": "code",
   "execution_count": 10,
   "metadata": {},
   "outputs": [
    {
     "name": "stdout",
     "output_type": "stream",
     "text": [
      "510\n"
     ]
    }
   ],
   "source": [
    "# what if I do this?\n",
    "\n",
    "x = '5'\n",
    "y = '10'     # notice that both of these are *TEXT* values, which we can see thanks to the quotes\n",
    "\n",
    "print(x + y)"
   ]
  },
  {
   "cell_type": "code",
   "execution_count": 11,
   "metadata": {},
   "outputs": [
    {
     "ename": "TypeError",
     "evalue": "unsupported operand type(s) for +: 'int' and 'str'",
     "output_type": "error",
     "traceback": [
      "\u001b[0;31m---------------------------------------------------------------------------\u001b[0m",
      "\u001b[0;31mTypeError\u001b[0m                                 Traceback (most recent call last)",
      "Cell \u001b[0;32mIn[11], line 7\u001b[0m\n\u001b[1;32m      3\u001b[0m x \u001b[38;5;241m=\u001b[39m \u001b[38;5;241m5\u001b[39m\n\u001b[1;32m      4\u001b[0m y \u001b[38;5;241m=\u001b[39m \u001b[38;5;124m'\u001b[39m\u001b[38;5;124m10\u001b[39m\u001b[38;5;124m'\u001b[39m    \u001b[38;5;66;03m# x is a number, and y is a text string\u001b[39;00m\n\u001b[0;32m----> 7\u001b[0m \u001b[38;5;28mprint\u001b[39m(\u001b[43mx\u001b[49m\u001b[43m \u001b[49m\u001b[38;5;241;43m+\u001b[39;49m\u001b[43m \u001b[49m\u001b[43my\u001b[49m)   \u001b[38;5;66;03m# will Python give us 510 back? Will it give us 15 back?\u001b[39;00m\n",
      "\u001b[0;31mTypeError\u001b[0m: unsupported operand type(s) for +: 'int' and 'str'"
     ]
    }
   ],
   "source": [
    "# What if I do this?\n",
    "\n",
    "x = 5\n",
    "y = '10'    # x is a number, and y is a text string\n",
    "\n",
    "\n",
    "print(x + y)   # will Python give us 510 back? Will it give us 15 back?"
   ]
  },
  {
   "cell_type": "markdown",
   "metadata": {},
   "source": [
    "# Keep the types separate!\n",
    "\n",
    "Python might not seem like it cares about what type of data we have in a variable, but the types are there, and you can't just mix and match them willy-nilly."
   ]
  },
  {
   "cell_type": "markdown",
   "metadata": {},
   "source": [
    "# Assignment operator, `=`\n",
    "\n",
    "Don't think that `=` is at all related to the mathematical equality operator. `=` means here that we're assigning the value on the right to the variable on the left."
   ]
  },
  {
   "cell_type": "markdown",
   "metadata": {},
   "source": [
    "# Variable names\n",
    "\n",
    "What can/should we call our variables?\n",
    "\n",
    "- Python doesn't care what you call your variables.  Use variable names that are meaningful to *you* and other people on your team.\n",
    "- You can use just about any combination of letters, digits, and `_`.\n",
    "- Capital and lowercase letters are different! So the variable `x` and the variable `X` are completely different to Python.\n",
    "- Normally, we only use lowercase letters in Python variable names.\n",
    "- You cannot start a variable name with a digit.\n",
    "- You should use `_` in place of spaces between words, if a variable has a long name, such as `first_name`.\n",
    "- Don't put `_` at the start of a variable name; that's for Python internal stuff."
   ]
  },
  {
   "cell_type": "markdown",
   "metadata": {},
   "source": [
    "# Exercises: Assigning and using variables\n",
    "\n",
    "1. Define two variables, `first` and `second`, to contain integers (i.e., only digits). Put the result of adding them with `+` into a new variable. Print the result. Don't try to mix text and numbers together!\n",
    "2. Define one variable, `name`, which contains your name. Display a nice greeting to yourself using `print` and `+`."
   ]
  },
  {
   "cell_type": "code",
   "execution_count": 12,
   "metadata": {},
   "outputs": [
    {
     "name": "stdout",
     "output_type": "stream",
     "text": [
      "579\n"
     ]
    }
   ],
   "source": [
    "# numbers\n",
    "\n",
    "first = 123\n",
    "second = 456\n",
    "\n",
    "total = first + second\n",
    "\n",
    "print(total)"
   ]
  },
  {
   "cell_type": "code",
   "execution_count": 13,
   "metadata": {},
   "outputs": [
    {
     "data": {
      "text/plain": [
       "int"
      ]
     },
     "execution_count": 13,
     "metadata": {},
     "output_type": "execute_result"
    }
   ],
   "source": [
    "# what kind of data is 123?\n",
    "type(123)  "
   ]
  },
  {
   "cell_type": "code",
   "execution_count": 14,
   "metadata": {},
   "outputs": [
    {
     "data": {
      "text/plain": [
       "int"
      ]
     },
     "execution_count": 14,
     "metadata": {},
     "output_type": "execute_result"
    }
   ],
   "source": [
    "type(first)  # here, it'll check what first refers to, and then give that type"
   ]
  },
  {
   "cell_type": "code",
   "execution_count": 17,
   "metadata": {},
   "outputs": [
    {
     "name": "stdout",
     "output_type": "stream",
     "text": [
      "Hello, Reuven, how are you today?\n"
     ]
    }
   ],
   "source": [
    "# names\n",
    "\n",
    "name = 'Reuven'\n",
    "\n",
    "print('Hello, ' + name + ', how are you today?')"
   ]
  },
  {
   "cell_type": "code",
   "execution_count": 18,
   "metadata": {},
   "outputs": [
    {
     "data": {
      "text/plain": [
       "str"
      ]
     },
     "execution_count": 18,
     "metadata": {},
     "output_type": "execute_result"
    }
   ],
   "source": [
    "type(name)   # what kind of data does the name variable contain?"
   ]
  },
  {
   "cell_type": "markdown",
   "metadata": {},
   "source": [
    "# Variables vs. strings\n",
    "\n",
    "Text values in Python contain letters. Variable names contain letters.\n",
    "\n",
    "How does Python tell the difference between them?\n",
    "\n",
    "Answer: Quotes! There's a huge difference between `'name'` and `name`.\n",
    "\n",
    "- `'name'` is a string containing the four characters `n`, `a`, `m`, and `e`. We see that it's a string because of the quotes. Python takes it literally.\n",
    "- `name` without quotes is a variable. Python looks for what was assigned to it, and uses that value."
   ]
  },
  {
   "cell_type": "code",
   "execution_count": 19,
   "metadata": {},
   "outputs": [
    {
     "name": "stdout",
     "output_type": "stream",
     "text": [
      "Hello, Reuven!\n"
     ]
    }
   ],
   "source": [
    "# greet myself again\n",
    "\n",
    "print('Hello, ' + name + '!')"
   ]
  },
  {
   "cell_type": "code",
   "execution_count": 20,
   "metadata": {},
   "outputs": [
    {
     "name": "stdout",
     "output_type": "stream",
     "text": [
      "Hello, name!\n"
     ]
    }
   ],
   "source": [
    "# let's try it again, but with quotes\n",
    "\n",
    "print('Hello, ' + 'name' + '!')   # notice quotes around 'name'"
   ]
  },
  {
   "cell_type": "markdown",
   "metadata": {},
   "source": [
    "# Next up\n",
    "\n",
    "- Get input from the user with the `input` function\n",
    "- Making comparisons\n",
    "- Using conditions to decide what code should be run"
   ]
  },
  {
   "cell_type": "code",
   "execution_count": 21,
   "metadata": {},
   "outputs": [
    {
     "name": "stdout",
     "output_type": "stream",
     "text": [
      "Hello\n"
     ]
    }
   ],
   "source": [
    "print('Hello')"
   ]
  },
  {
   "cell_type": "code",
   "execution_count": 23,
   "metadata": {},
   "outputs": [
    {
     "name": "stdout",
     "output_type": "stream",
     "text": [
      "579\n"
     ]
    }
   ],
   "source": [
    "# SS\n",
    "\n",
    "first = 123\n",
    "second = 456\n",
    "\n",
    "total = first + second\n",
    "\n",
    "print(total)"
   ]
  },
  {
   "cell_type": "code",
   "execution_count": 25,
   "metadata": {},
   "outputs": [
    {
     "name": "stdin",
     "output_type": "stream",
     "text": [
      "Enter your name:  someone else\n"
     ]
    },
    {
     "name": "stdout",
     "output_type": "stream",
     "text": [
      "Hello, someone else.\n"
     ]
    }
   ],
   "source": [
    "# let's get the user's name from the user, rather than hard-coding it in our program from the start!\n",
    "# to do that, we'll use the \"input\" function\n",
    "\n",
    "# \"input\" asks the user to enter something. The text that the user enters is returned from the function as a string\n",
    "# meaning: input returns a value, and we're generally expected to assign that value to a variable\n",
    "\n",
    "# when the program hits the input function, the program stops and waits for the user to enter something\n",
    "# after the call to input, we can use the variable that got its value as if it always had that value.\n",
    "\n",
    "name = input('Enter your name: ')\n",
    "print('Hello, ' + name + '.')"
   ]
  },
  {
   "cell_type": "markdown",
   "metadata": {},
   "source": [
    "# Exercise: Friendly greeting\n",
    "\n",
    "1. Ask the user, using `input`, to enter both their name and the city they're from.\n",
    "2. You'll want to assign these two values to two different variables -- `name` and `city`.\n",
    "3. Print a friendly greeting to the user, making use of these two variables."
   ]
  },
  {
   "cell_type": "code",
   "execution_count": 26,
   "metadata": {},
   "outputs": [
    {
     "ename": "SyntaxError",
     "evalue": "unterminated string literal (detected at line 1) (1679058590.py, line 1)",
     "output_type": "error",
     "traceback": [
      "\u001b[0;36m  Cell \u001b[0;32mIn[26], line 1\u001b[0;36m\u001b[0m\n\u001b[0;31m    print('Hello)\u001b[0m\n\u001b[0m          ^\u001b[0m\n\u001b[0;31mSyntaxError\u001b[0m\u001b[0;31m:\u001b[0m unterminated string literal (detected at line 1)\n"
     ]
    }
   ],
   "source": [
    "input('What's your name? ')"
   ]
  },
  {
   "cell_type": "code",
   "execution_count": null,
   "metadata": {},
   "outputs": [],
   "source": [
    "# AS\n",
    "\n",
    "name_city = input('Enter your name and city:')\n",
    "print('Hello' '+ name_city + '.'')"
   ]
  },
  {
   "cell_type": "code",
   "execution_count": 27,
   "metadata": {},
   "outputs": [
    {
     "name": "stdin",
     "output_type": "stream",
     "text": [
      "Enter your name:  Reuven\n",
      "Enter your city:  Modi'in\n"
     ]
    },
    {
     "name": "stdout",
     "output_type": "stream",
     "text": [
      "Hello, Reuven, from Modi'in.\n"
     ]
    }
   ],
   "source": [
    "name = input('Enter your name: ')\n",
    "city = input('Enter your city: ')\n",
    "\n",
    "print('Hello, ' + name + ', from ' + city + '.')"
   ]
  },
  {
   "cell_type": "code",
   "execution_count": 28,
   "metadata": {},
   "outputs": [
    {
     "name": "stdin",
     "output_type": "stream",
     "text": [
      "What is your name?  Reuven\n",
      "What city are you from?  Modi'in\n"
     ]
    },
    {
     "name": "stdout",
     "output_type": "stream",
     "text": [
      "Hello Reuven from Modi'in.\n"
     ]
    }
   ],
   "source": [
    "# LK\n",
    "\n",
    "name = input('What is your name? ')\n",
    "city = input('What city are you from? ')\n",
    "print('Hello ' + name + ' from ' + city + '.')"
   ]
  },
  {
   "cell_type": "code",
   "execution_count": null,
   "metadata": {},
   "outputs": [],
   "source": [
    "# AI\n",
    "\n",
    "name=input('What is your name?')\n",
    "city=input('What city are you from?')\n",
    "print('Good morning,', name, '!', 'How is the weather in', city, 'today?')\n"
   ]
  },
  {
   "cell_type": "code",
   "execution_count": 29,
   "metadata": {},
   "outputs": [
    {
     "name": "stdout",
     "output_type": "stream",
     "text": [
      "abc\n",
      "a b c\n"
     ]
    }
   ],
   "source": [
    "print('a' + 'b' + 'c')   # print sees a single value it should print, namely the result of 'a'+'b'+'c', aka 'abc')\n",
    "print('a', 'b', 'c')     # here, print sees *three* values it should print, and by default, it puts spaces between them"
   ]
  },
  {
   "cell_type": "markdown",
   "metadata": {},
   "source": [
    "# f-strings\n",
    "\n",
    "So far, we've joined values together using `+`. This works! But it leads to very ugly code:\n",
    "\n",
    "```python\n",
    "print('Hello, ' + name + ', from ' + city + '.')\n",
    "```\n",
    "\n",
    "This works, but (a) it's long, (b) it's ugly, (c) it's easy to make mistakes, and (d) it only works with strings. If you have non-textual data, it'll blow up.\n",
    "\n",
    "That's where f-strings (short for \"format strings\" or \"fancy strings\") come in. An f-string is a regular string, except that (a) there's an `f` before the opening quote and (b) inside of the string, you can have `{}`. In those `{}`, you can have any Python value/expression/variable you want.\n"
   ]
  },
  {
   "cell_type": "code",
   "execution_count": 30,
   "metadata": {},
   "outputs": [
    {
     "name": "stdout",
     "output_type": "stream",
     "text": [
      "Hello, Reuven from Modi'in.\n"
     ]
    }
   ],
   "source": [
    "# using an f-string, we can write:\n",
    "\n",
    "print(f'Hello, {name} from {city}.')"
   ]
  },
  {
   "cell_type": "code",
   "execution_count": 31,
   "metadata": {},
   "outputs": [
    {
     "name": "stdout",
     "output_type": "stream",
     "text": [
      "10 + 20 = 30\n"
     ]
    }
   ],
   "source": [
    "x = 10\n",
    "y = 20\n",
    "\n",
    "print(f'{x} + {y} = {x+y}')   # every value is turned into a string, so we can put non-text values inside of the {}!"
   ]
  },
  {
   "cell_type": "code",
   "execution_count": 34,
   "metadata": {
    "scrolled": true
   },
   "outputs": [
    {
     "ename": "SyntaxError",
     "evalue": "invalid syntax (4020475048.py, line 3)",
     "output_type": "error",
     "traceback": [
      "\u001b[0;36m  Cell \u001b[0;32mIn[34], line 3\u001b[0;36m\u001b[0m\n\u001b[0;31m    ---------------------------------------------------------------------------\u001b[0m\n\u001b[0m                                                                               ^\u001b[0m\n\u001b[0;31mSyntaxError\u001b[0m\u001b[0;31m:\u001b[0m invalid syntax\n"
     ]
    }
   ],
   "source": [
    "# JM\n",
    "\n",
    "---------------------------------------------------------------------------\n",
    "TypeError                                 Traceback (most recent call last)\n",
    "Cell In[18], line 3\n",
    "      1 name1 = input(\"What is your name? \")\n",
    "      2 city = input(\"And what city do you live in? \")\n",
    "----> 3 print('Hello, ' + name1 +  'Glad to see you came all the way from ' + cityb + ', it is a pleasure to meet you.')\n",
    "\n",
    "TypeError: bad operand type for unary +: 'str'"
   ]
  },
  {
   "cell_type": "code",
   "execution_count": 35,
   "metadata": {},
   "outputs": [
    {
     "ename": "SyntaxError",
     "evalue": "unterminated f-string literal (detected at line 2) (746735801.py, line 2)",
     "output_type": "error",
     "traceback": [
      "\u001b[0;36m  Cell \u001b[0;32mIn[35], line 2\u001b[0;36m\u001b[0m\n\u001b[0;31m    print(f'Hello, {name_city})\u001b[0m\n\u001b[0m          ^\u001b[0m\n\u001b[0;31mSyntaxError\u001b[0m\u001b[0;31m:\u001b[0m unterminated f-string literal (detected at line 2)\n"
     ]
    }
   ],
   "source": [
    "name_city = input('Enter your name and city:')\n",
    "print(f'Hello, {name_city}) "
   ]
  },
  {
   "cell_type": "code",
   "execution_count": 33,
   "metadata": {},
   "outputs": [
    {
     "data": {
      "text/plain": [
       "'ahello'"
      ]
     },
     "execution_count": 33,
     "metadata": {},
     "output_type": "execute_result"
    }
   ],
   "source": [
    "'a' + 'hello'"
   ]
  },
  {
   "cell_type": "markdown",
   "metadata": {},
   "source": [
    "# Comparisons\n",
    "\n",
    "It's common for us to want to compare two values in a program. We might want to know if they're the same. (For example, we might want to know if a name matches one on a list for a party.)\n",
    "\n",
    "We can compare any two values with the `==` operator. *THIS IS NOT AT ALL RELATED TO THE `=` OPERATOR!*\n",
    "\n",
    "- `=` means: Assign the value on the right to the variable on the left\n",
    "- `==` means: Return either `True` or `False`, indicating if the value on the left is (or isn't) the same as the value on the right."
   ]
  },
  {
   "cell_type": "code",
   "execution_count": 38,
   "metadata": {},
   "outputs": [
    {
     "data": {
      "text/plain": [
       "True"
      ]
     },
     "execution_count": 38,
     "metadata": {},
     "output_type": "execute_result"
    }
   ],
   "source": [
    "# in Jupyter, and *ONLY* in Jupyter, you don't need to use print to see the result\n",
    "# of an expression if it's the final one in a cell\n",
    "\n",
    "5 == 5"
   ]
  },
  {
   "cell_type": "code",
   "execution_count": 39,
   "metadata": {},
   "outputs": [
    {
     "data": {
      "text/plain": [
       "False"
      ]
     },
     "execution_count": 39,
     "metadata": {},
     "output_type": "execute_result"
    }
   ],
   "source": [
    "5 == 10"
   ]
  },
  {
   "cell_type": "code",
   "execution_count": 40,
   "metadata": {},
   "outputs": [
    {
     "data": {
      "text/plain": [
       "False"
      ]
     },
     "execution_count": 40,
     "metadata": {},
     "output_type": "execute_result"
    }
   ],
   "source": [
    "5 == '5'   # are these the same?"
   ]
  },
  {
   "cell_type": "markdown",
   "metadata": {},
   "source": [
    "# Comparison operators\n",
    "\n",
    "We can use the following to compare values, all returning `True` or `False` as appropriate:\n",
    "\n",
    "- `==` -- equality operator, returns `True` if the two values are the same\n",
    "- `!=` -- inequality operator, opposite of `==` (it's the best they could do 80 years ago to say ≠)\n",
    "- `<` -- less than\n",
    "- `>` -- greater than\n",
    "- `<=` -- less than or equal\n",
    "- `>=` -- greater than or equal\n",
    "\n",
    "These can be used to compare values."
   ]
  },
  {
   "cell_type": "code",
   "execution_count": 41,
   "metadata": {},
   "outputs": [
    {
     "data": {
      "text/plain": [
       "True"
      ]
     },
     "execution_count": 41,
     "metadata": {},
     "output_type": "execute_result"
    }
   ],
   "source": [
    "'abcd' == 'abcd'   # this makes sense!"
   ]
  },
  {
   "cell_type": "code",
   "execution_count": 42,
   "metadata": {},
   "outputs": [
    {
     "data": {
      "text/plain": [
       "True"
      ]
     },
     "execution_count": 42,
     "metadata": {},
     "output_type": "execute_result"
    }
   ],
   "source": [
    "'hello' > 'goodbye'   # what does this mean?  It compares them alphabetical"
   ]
  },
  {
   "cell_type": "code",
   "execution_count": null,
   "metadata": {},
   "outputs": [],
   "source": []
  }
 ],
 "metadata": {
  "kernelspec": {
   "display_name": "Python 3 (ipykernel)",
   "language": "python",
   "name": "python3"
  },
  "language_info": {
   "codemirror_mode": {
    "name": "ipython",
    "version": 3
   },
   "file_extension": ".py",
   "mimetype": "text/x-python",
   "name": "python",
   "nbconvert_exporter": "python",
   "pygments_lexer": "ipython3",
   "version": "3.13.0"
  }
 },
 "nbformat": 4,
 "nbformat_minor": 4
}
