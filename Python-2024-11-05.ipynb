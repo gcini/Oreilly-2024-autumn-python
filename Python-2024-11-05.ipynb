{
 "cells": [
  {
   "cell_type": "markdown",
   "metadata": {},
   "source": [
    "# Agenda\n",
    "\n",
    "1. Week 1\n",
    "    - What is a programming language? What is Python?\n",
    "    - Values, assignment, and variables\n",
    "    - `print` and displaying values\n",
    "    - Jupyter notebook and how to use it\n",
    "    - Getting input from the user\n",
    "    - Different types of values (and how to work with them)\n",
    "    - Comparing values\n",
    "    - Making decisions with `if` and `else` (and then `elif`, `and`, `or`, and `not`)\n",
    "    - Numeric data structures (`int` and `float`)\n",
    "    - Textual data (strings, aka `str`)\n",
    "    - A little about methods\n",
    "2. Week 2: Loops, lists, and tuples\n",
    "    - Different kinds of loops in Python (`for` and `while`)\n",
    "    - Lists (a different data structure)\n",
    "        - How are they similar to, and different from, strings?\n",
    "        - Converting strings to lists, and back\n",
    "        - List methods\n",
    "    - Tuples (another data structure)\n",
    "        - How are they similar to and different from lists?\n",
    "        - Tuple unpacking\n",
    "3. Dictionaries and files\n",
    "    - Dictionaries (`dict`) are the most powerful and important data structure in Python\n",
    "        - Creating\n",
    "        - Retrieving from them\n",
    "        - Iterating over them in a `for` loop\n",
    "        - Dict methods\n",
    "        - How are dicts used?\n",
    "        - How are dicts implemented behind the scenes?\n",
    "    - Files (plain-text files)\n",
    "        - Why do we need special data structures for working with files?\n",
    "        - How to read file data into our program\n",
    "        - (A little about) how to write data from our program to a file\n",
    "4. Functions\n",
    "    - What are functions?\n",
    "    - Defining simple functions\n",
    "    - Return values\n",
    "    - Arguments and parameters\n",
    "    - Fancy ways to return values\n",
    "    - Some fancy parameter types\n",
    "5. Modules and packages\n",
    "    - Why do we need these?\n",
    "    - Different ways to `import` modules into Python, and to use the functions/data they define\n",
    "    - Python standard library\n",
    "    - PyPI and `pip`, for using and installing third-party modules\n",
    "    - Where to go from here?"
   ]
  },
  {
   "cell_type": "markdown",
   "metadata": {},
   "source": [
    "# How do you use Python in this class?\n",
    "\n",
    "1. Use Google Colab, which gives you a very, very similar environment to Jupyter.\n",
    "2. Install Python and Jupyter on your own computer.\n",
    "    - Python Environment Setup Shortcuts - Video Edition: https://learning.oreilly.com/playlists/3c416ef8-3bce-4b5a-99e1-eae55582afd1/\n",
    "3. Use someone else's computer where it is installed"
   ]
  },
  {
   "cell_type": "markdown",
   "metadata": {},
   "source": [
    "# A 5-minute introduction to Jupyter\n",
    "\n",
    "Jupyter gives us the illusion of writing Python in our browser. In actuality, there is a server behind the scenes where Python code is being run. But the illusion is *really* strong and useful.\n",
    "\n",
    "Working with Jupyter means working with \"cells.\" I'm typing into a cell right now. There are two modes of interaction with Jupyter:\n",
    "\n",
    "- Edit mode, when typing puts text into the cell. (I'm currently in edit mode.) To enter edit mode, click inside of a cell or press ENTER. You can see the "
   ]
  }
 ],
 "metadata": {
  "kernelspec": {
   "display_name": "Python 3 (ipykernel)",
   "language": "python",
   "name": "python3"
  },
  "language_info": {
   "codemirror_mode": {
    "name": "ipython",
    "version": 3
   },
   "file_extension": ".py",
   "mimetype": "text/x-python",
   "name": "python",
   "nbconvert_exporter": "python",
   "pygments_lexer": "ipython3",
   "version": "3.13.0"
  }
 },
 "nbformat": 4,
 "nbformat_minor": 4
}
