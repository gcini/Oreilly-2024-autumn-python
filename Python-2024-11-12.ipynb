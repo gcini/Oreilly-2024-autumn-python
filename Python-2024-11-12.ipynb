{
 "cells": [
  {
   "cell_type": "markdown",
   "metadata": {},
   "source": [
    "# Week 2: Loops, lists, and tuples\n",
    "\n",
    "1. Quick recap from last week\n",
    "2. Any questions?\n",
    "3. Loops\n",
    "    - What are they for?\n",
    "    - `for` and `while` loops\n",
    "    - Looping a number of times\n",
    "    - Indexes (or the lack thereof) and `enumerate`\n",
    "    - Controlling our loops\n",
    "    - `while` loops\n",
    "4. Lists -- a new data structure\n",
    "    - What are lists?\n",
    "    - Creating lists\n",
    "    - List methods\n",
    "    - Lists are *mutable*\n",
    "5. Strings to lists, and back\n",
    "    - Using the `str.split` method to turn a string into a list\n",
    "    - Using the `str.join` method to turn a list into a string\n",
    "6. Tuples\n",
    "    - What are tuples?\n",
    "    - How are they related to strings and lists?\n",
    "    - Tuple unpacking"
   ]
  },
  {
   "cell_type": "markdown",
   "metadata": {},
   "source": [
    "# Recap \n",
    "\n",
    "We talked about a lot of topics last week:\n",
    "\n",
    "- Values, and different data structures (especially `int`, `float`, and `str`)\n",
    "- Assigning values to variables with `=`\n",
    "- Comparing values with a number of *comparison operators*\n",
    "    - `==`\n",
    "    - `!=`\n",
    "    - `<`, `<=`"
   ]
  }
 ],
 "metadata": {
  "kernelspec": {
   "display_name": "Python 3 (ipykernel)",
   "language": "python",
   "name": "python3"
  },
  "language_info": {
   "codemirror_mode": {
    "name": "ipython",
    "version": 3
   },
   "file_extension": ".py",
   "mimetype": "text/x-python",
   "name": "python",
   "nbconvert_exporter": "python",
   "pygments_lexer": "ipython3",
   "version": "3.13.0"
  }
 },
 "nbformat": 4,
 "nbformat_minor": 4
}
