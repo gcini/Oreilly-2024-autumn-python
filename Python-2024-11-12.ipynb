{
 "cells": [
  {
   "cell_type": "markdown",
   "metadata": {},
   "source": [
    "# Week 2: Loops, lists, and tuples\n",
    "\n",
    "1. Quick recap from last week\n",
    "2. Any questions?\n",
    "3. Loops\n",
    "    - What are they for?\n",
    "    - `for` and `while` loops\n",
    "    - Looping a number of times\n",
    "    - Controlling our loops\n",
    "    - `while` loops\n",
    "4. Lists -- a new data structure\n",
    "    - What are lists?\n",
    "    - Creating lists\n",
    "    - List methods\n",
    "    - Lists are *mutable*\n",
    "5. St"
   ]
  },
  {
   "cell_type": "code",
   "execution_count": null,
   "metadata": {},
   "outputs": [],
   "source": []
  }
 ],
 "metadata": {
  "kernelspec": {
   "display_name": "Python 3 (ipykernel)",
   "language": "python",
   "name": "python3"
  },
  "language_info": {
   "codemirror_mode": {
    "name": "ipython",
    "version": 3
   },
   "file_extension": ".py",
   "mimetype": "text/x-python",
   "name": "python",
   "nbconvert_exporter": "python",
   "pygments_lexer": "ipython3",
   "version": "3.13.0"
  }
 },
 "nbformat": 4,
 "nbformat_minor": 4
}
