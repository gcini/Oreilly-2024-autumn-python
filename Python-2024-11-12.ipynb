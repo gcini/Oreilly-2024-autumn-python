{
 "cells": [
  {
   "cell_type": "markdown",
   "metadata": {},
   "source": [
    "# Week 2: Loops, lists, and tuples\n",
    "\n",
    "1. Quick recap from last week\n",
    "2. Any questions?\n",
    "3. Loops\n",
    "    - What are they for?\n",
    "    - `for` and `while` loops\n",
    "    - Looping a number of times\n",
    "    - Indexes (or the lack thereof) and `enumerate`\n",
    "    - Controlling our loops\n",
    "    - `while` loops\n",
    "4. Lists -- a new data structure\n",
    "    - What are lists?\n",
    "    - Creating lists\n",
    "    - List methods\n",
    "    - Lists are *mutable*\n",
    "5. Strings to lists, and back\n",
    "    - Using the `str.split` method to turn a string into a list\n",
    "    - Using the `str.join` method to turn a list into a string\n",
    "6. Tuples\n",
    "    - What are tuples?\n",
    "    - How are they related to strings and lists?\n",
    "    - Tuple unpacking"
   ]
  },
  {
   "cell_type": "markdown",
   "metadata": {},
   "source": [
    "# Recap \n",
    "\n",
    "We talked about a lot of topics last week:\n",
    "\n",
    "- Values, and different data structures (especially `int`, `float`, and `str`)\n",
    "- Assigning values to variables with `=`\n",
    "- Comparing values with a number of *comparison operators*\n",
    "    - `==`\n",
    "    - `!=`\n",
    "    - `<`, `<=`\n",
    "    - `>`, `>=`\n",
    "- Use `if`, `elif`, and `else` to choose which path to take in our program\n",
    "    - Use an indented block to indicate what code should run\n",
    "    - We can use `and` and `or` to combine conditions into one larger one\n",
    "- Numbers (`int` and `float`)\n",
    "    - We can turn another value into an `int` by invoking `int` on it\n",
    "    - We can turn another value into a `float` by invoking `float` on it\n",
    "    - Floats and integers can work together just fine\n",
    "- Strings\n",
    "    - Creating strings with quotes of various sorts\n",
    "    - f-strings, which let us interpolate values into our strings\n",
    "    - Using `[]` to retrieve values from a string\n",
    "        - We can use a single integer to get one character\n",
    "        - We can use `[start:stop]` to get a *slice* from our string\n",
    "    - We can retrieve from the end of a string with negative indexes, starting from -1\n",
    "- Methods\n",
    "    - Methods are functions that are connected to an object; their name always has a `.` before it\n",
    "    - We can use `str.strip()` to remove any whitespace that might be on a string\n",
    "    - We can use `str.isdigit()` to check if a string only contains digits 0-9, and thus can be turned into an `int` without errors"
   ]
  },
  {
   "cell_type": "markdown",
   "metadata": {},
   "source": [
    "# What's an object?\n",
    "\n",
    "There's a popular school of programming, known as \"object-oriented programming,\" in which we create new data types / data structures, and the methods that go along with those. Python is built using this technique, and so it's common for the various types of values to have methods.\n",
    "\n",
    "Every value in Python is actually an object, but I could just as easily say \"value\" instead of \"object,\" to make it a bit clearer.  Integers, floats, and strings are all different types of *values*, which we can also say are different types of *objects*.\n",
    "\n",
    "If and when you do object-oriented programming, you can write your own methods. But you cannot add/modify/remove methods on Python's core data structures."
   ]
  },
  {
   "cell_type": "markdown",
   "metadata": {},
   "source": [
    "# Loops\n",
    "\n",
    "One of the most important ideas in programming is \"DRY,\" which stands for \"don't repeat yourself.\" Consider if we have a string, and want to print every character in the string."
   ]
  },
  {
   "cell_type": "code",
   "execution_count": 2,
   "metadata": {},
   "outputs": [
    {
     "name": "stdout",
     "output_type": "stream",
     "text": [
      "a\n",
      "b\n",
      "c\n",
      "d\n"
     ]
    }
   ],
   "source": [
    "s = 'abcd'\n",
    "\n",
    "print(s[0])\n",
    "print(s[1])\n",
    "print(s[2])\n",
    "print(s[3])"
   ]
  },
  {
   "cell_type": "markdown",
   "metadata": {},
   "source": [
    "What we have here is some code where we've repeated ourselves... which is something we want to avoid as much as possible. It would be great to just tell Python, \"Go through each character in the string, and print it on the screen.\"\n",
    "\n",
    "This is where *loops* come in. They do exactly what I just described."
   ]
  },
  {
   "cell_type": "code",
   "execution_count": null,
   "metadata": {},
   "outputs": [],
   "source": []
  }
 ],
 "metadata": {
  "kernelspec": {
   "display_name": "Python 3 (ipykernel)",
   "language": "python",
   "name": "python3"
  },
  "language_info": {
   "codemirror_mode": {
    "name": "ipython",
    "version": 3
   },
   "file_extension": ".py",
   "mimetype": "text/x-python",
   "name": "python",
   "nbconvert_exporter": "python",
   "pygments_lexer": "ipython3",
   "version": "3.13.0"
  }
 },
 "nbformat": 4,
 "nbformat_minor": 4
}
