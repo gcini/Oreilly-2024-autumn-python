{
 "cells": [
  {
   "cell_type": "markdown",
   "metadata": {},
   "source": [
    "# Week 2: Loops, lists, and tuples\n",
    "\n",
    "1. Quick recap from last week\n",
    "2. Any questions?\n",
    "3. Loops\n",
    "    - What are they for?\n",
    "    - `for` and `while` loops\n",
    "    - Looping a number of times\n",
    "    - Indexes (or the lack thereof) and `enumerate`\n",
    "    - Controlling our loops\n",
    "    - `while` loops\n",
    "4. Lists -- a new data structure\n",
    "    - What are lists?\n",
    "    - Creating lists\n",
    "    - List methods\n",
    "    - Lists are *mutable*\n",
    "5. Strings to lists, and back\n",
    "    - Using the `str.split` method to turn a string into a list\n",
    "    - Using the `str.join` method to turn a list into a string\n",
    "6. Tuples\n",
    "    - What are tuples?\n",
    "    - How are they related to strings and lists?\n",
    "    - Tuple unpacking"
   ]
  },
  {
   "cell_type": "markdown",
   "metadata": {},
   "source": [
    "# Recap \n",
    "\n",
    "We talked about a lot of topics last week:\n",
    "\n",
    "- Values, and different data structures (especially `int`, `float`, and `str`)\n",
    "- Assigning values to variables with `=`\n",
    "- Comparing values with a number of *comparison operators*\n",
    "    - `==`\n",
    "    - `!=`\n",
    "    - `<`, `<=`\n",
    "    - `>`, `>=`\n",
    "- Use `if`, `elif`, and `else` to choose which path to take in our program\n",
    "    - Use an indented block to indicate what code should run\n",
    "    - We can use `and` and `or` to combine conditions into one larger one\n",
    "- Numbers (`int` and `float`)\n",
    "    - We can turn another value into an `int` by invoking `int` on it\n",
    "    - We can turn another value into a `float` by invoking `float` on it\n",
    "    - Floats and integers can work together just fine\n",
    "- Strings\n",
    "    - Creating strings with quotes of various sorts\n",
    "    - f-strings, which let us interpolate values into our strings\n",
    "    - Using `[]` to retrieve values from a string\n",
    "        - We can use a single integer to get one character\n",
    "        - We can use `[start:stop]` to get a *slice* from our string\n",
    "    - We can retrieve from the end of a string with negative indexes, starting from -1\n",
    "- Methods\n",
    "    - Methods are functions that are connected to an object; their name always has a `.` before it\n",
    "    - We can use `str.strip()` to remove any whitespace that might be on a string\n",
    "    - We can use `str.isdigit()` to check if a string only contains digits 0-9, and thus can be turned into an `int` without errors"
   ]
  },
  {
   "cell_type": "markdown",
   "metadata": {},
   "source": [
    "# What's an object?\n",
    "\n",
    "There's a popular school of programming, known as \"object-oriented programming,\" in which we create new data types / data structures, and the methods that go along with those. Python is built using this technique, and so it's common for the various types of values to have methods.\n",
    "\n",
    "Every value in Python is actually an object, but I could just as easily say \"value\" instead of \"object,\" to make it a bit clearer.  Integers, floats, and strings are all different types of *values*, which we can also say are different types of *objects*.\n",
    "\n",
    "If and when you do object-oriented programming, you can write your own methods. But you cannot add/modify/remove methods on Python's core data structures."
   ]
  },
  {
   "cell_type": "markdown",
   "metadata": {},
   "source": [
    "# Loops\n",
    "\n",
    "One of the most important ideas in programming is \"DRY,\" which stands for \"don't repeat yourself.\" Consider if we have a string, and want to print every character in the string."
   ]
  },
  {
   "cell_type": "code",
   "execution_count": 2,
   "metadata": {},
   "outputs": [
    {
     "name": "stdout",
     "output_type": "stream",
     "text": [
      "a\n",
      "b\n",
      "c\n",
      "d\n"
     ]
    }
   ],
   "source": [
    "s = 'abcd'\n",
    "\n",
    "print(s[0])\n",
    "print(s[1])\n",
    "print(s[2])\n",
    "print(s[3])"
   ]
  },
  {
   "cell_type": "markdown",
   "metadata": {},
   "source": [
    "What we have here is some code where we've repeated ourselves... which is something we want to avoid as much as possible. It would be great to just tell Python, \"Go through each character in the string, and print it on the screen.\"\n",
    "\n",
    "This is where *loops* come in. They do exactly what I just described."
   ]
  },
  {
   "cell_type": "code",
   "execution_count": 3,
   "metadata": {},
   "outputs": [
    {
     "name": "stdout",
     "output_type": "stream",
     "text": [
      "a\n",
      "b\n",
      "c\n",
      "d\n"
     ]
    }
   ],
   "source": [
    "# A loop doing what we did above, manually\n",
    "\n",
    "for one_character in s:\n",
    "    print(one_character)"
   ]
  },
  {
   "cell_type": "markdown",
   "metadata": {},
   "source": [
    "# Parts of the loop, and what actually happens\n",
    "\n",
    "- `for` starts the loop\n",
    "- Then we have the *loop variable*, the variable into which each value from `s` will be assigned. This variable, like all variables in Python, can have *any* name you want; Python doesn't pay attention to that name.\n",
    "- Then we say `in` and `s`, meaning that we want to loop over `s`.\n",
    "- At the end of the line, we have a colon (`:`)\n",
    "- Right after a colon, we start an indented block; in this case, it's only one line long, but it can have any number of lines, and any code at all that we want to execute.\n",
    "\n",
    "### A dialogue to describe what's happening in the loop\n",
    "\n",
    "1. `for` turns to `s`, and asks it: Are you *iterable*? Meaning, do you know how to behave inside of a `for` loop?\n",
    "    - If not, then we get an error message.\n",
    "2. `for` turns to `s`, and asks it for its *next* value.\n",
    "    - If it's at the end of the values, then the loop exits.\n",
    "3. If there is a value, then it's assigned to our loop variable, `one_character`\n",
    "4. The loop body is executed\n",
    "5. We go back to step 2, and ask for the next value.\n",
    "\n",
    "### Notice\n",
    "\n",
    "1. The `for` loop has no idea of how many iterations it's going to run.\n",
    "2. The value at the end of the line (`s`, here) is in charge of how many iterations we'll have.\n",
    "3. There's no index variable here, keeping track of where we are in `s`.\n",
    "4. Who is really in charge here? The value `s`. Because it's a string, we get one character at a time. But that's up to the value, not to the `for` loop."
   ]
  },
  {
   "cell_type": "markdown",
   "metadata": {},
   "source": [
    "# Exercise: Vowels, digits, and others\n",
    "\n",
    "1. Ask the user to enter some text, and store it in a variable.\n",
    "2. Define three variables -- `vowels`, `digits`, and `others` -- to be 0.\n",
    "3. Go through each character in the user's text, and check the character:\n",
    "    - If it's a digit, then add 1 to `digits`\n",
    "    - If it's a vowel (a, e, i, o, u), then add 1 to vowels\n",
    "    - Otherwise, add 1 to `others`\n",
    "4. At the end of the run, print the values of all three variables.\n",
    "\n",
    "Example:\n",
    "\n",
    "    Enter text: hello!! 123\n",
    "    vowels: 2\n",
    "    digits: 3\n",
    "    others: 6"
   ]
  },
  {
   "cell_type": "code",
   "execution_count": 4,
   "metadata": {},
   "outputs": [
    {
     "name": "stdin",
     "output_type": "stream",
     "text": [
      "Enter text:  hello!! 123\n"
     ]
    },
    {
     "name": "stdout",
     "output_type": "stream",
     "text": [
      "vowels = 2\n",
      "digits = 3\n",
      "others = 6\n"
     ]
    }
   ],
   "source": [
    "vowels = 0\n",
    "digits = 0\n",
    "others = 0\n",
    "\n",
    "text = input('Enter text: ').strip()\n",
    "\n",
    "for one_character in text:\n",
    "    if one_character in 'aeiou':   # if the current character is a vowel...\n",
    "        vowels += 1                #  ... add 1 to the vowel count\n",
    "    elif one_character.isdigit():  # if the current character is a digit...\n",
    "        digits += 1                #  ... add 1 to the digit count\n",
    "    else:\n",
    "        others += 1                # otherwise, add 1 to the \"others\" count\n",
    "\n",
    "print(f'vowels = {vowels}')\n",
    "print(f'digits = {digits}')\n",
    "print(f'others = {others}')"
   ]
  },
  {
   "cell_type": "code",
   "execution_count": null,
   "metadata": {},
   "outputs": [],
   "source": [
    "# AI\n",
    "\n",
    "user_text = input(\"Enter text: \")\n",
    "\n",
    "# Define the counters for vowels, digits, and others\n",
    "vowels = 0\n",
    "digits = 0\n",
    "others = 0\n",
    "\n",
    "# Go through each character in the user's text\n",
    "for char in user_text:\n",
    "    if char.isdigit():\n",
    "        digits += 1  # If it's a digit, add 1 to digits\n",
    "    elif char.lower() in 'aeiou':\n",
    "        vowels += 1  # If it's a vowel, add 1 to vowels\n",
    "    else:\n",
    "        others += 1"
   ]
  },
  {
   "cell_type": "markdown",
   "metadata": {},
   "source": [
    "# How can we use loops?\n",
    "\n",
    "- Go through each file in a directory\n",
    "- Go through each line of a file\n",
    "- Go through each computer on a network\n",
    "- Go through each user in a database"
   ]
  },
  {
   "cell_type": "code",
   "execution_count": null,
   "metadata": {},
   "outputs": [],
   "source": [
    "# LK\n",
    "\n",
    "vowels = 0\n",
    "digits = 0\n",
    "others = 0\n",
    "text =input('Enter test: ').strip()\n",
    "for one_character in text:\n",
    "    if one_character in \"aeiou\":\n",
    "        vowels += 1\n",
    "    elif one_character.isdigit():\n",
    "        digits += 1\n",
    "    else:\n",
    "        others +=1\n",
    "print('Hello! 123')\n",
    "print('vowels: ', vowels)\n",
    "print('digits: ', digits)\n",
    "print('others: ', others)"
   ]
  },
  {
   "cell_type": "code",
   "execution_count": 6,
   "metadata": {},
   "outputs": [
    {
     "name": "stdin",
     "output_type": "stream",
     "text": [
      "Enter your text:  hello!! 123\n"
     ]
    },
    {
     "name": "stdout",
     "output_type": "stream",
     "text": [
      "Digits: 3 \n",
      "\n",
      "Vowels: 2 \n",
      "\n",
      "Others: 6 \n",
      "\n"
     ]
    }
   ],
   "source": [
    "# AR\n",
    "\n",
    "# Vowels, digits and others\n",
    "utext = input('Enter your text: ')\n",
    "vowels = 0\n",
    "digits = 0\n",
    "others = 0\n",
    "for t in utext:\n",
    "  if t.isdigit():   # if you don't invoke the method with (), you're asking: Does the method exist?\n",
    "    digits=digits+1\n",
    "  elif t in 'aeiou':\n",
    "    vowels=vowels+1\n",
    "  else:\n",
    "    others=others+1\n",
    "print(f'Digits: {digits} \\n')\n",
    "print(f'Vowels: {vowels} \\n')\n",
    "print(f'Others: {others} \\n')\n"
   ]
  },
  {
   "cell_type": "markdown",
   "metadata": {},
   "source": [
    "# What if we want to loop a number of times?\n",
    "\n",
    "I might want to perform a task 3 times, or 30 times, or 3,000 times.. how can I do that?"
   ]
  },
  {
   "cell_type": "code",
   "execution_count": 7,
   "metadata": {},
   "outputs": [
    {
     "name": "stdout",
     "output_type": "stream",
     "text": [
      "Hooray!\n",
      "Hooray!\n",
      "Hooray!\n"
     ]
    }
   ],
   "source": [
    "print('Hooray!')\n",
    "print('Hooray!')\n",
    "print('Hooray!')"
   ]
  },
  {
   "cell_type": "code",
   "execution_count": 8,
   "metadata": {},
   "outputs": [
    {
     "ename": "TypeError",
     "evalue": "'int' object is not iterable",
     "output_type": "error",
     "traceback": [
      "\u001b[0;31m---------------------------------------------------------------------------\u001b[0m",
      "\u001b[0;31mTypeError\u001b[0m                                 Traceback (most recent call last)",
      "Cell \u001b[0;32mIn[8], line 3\u001b[0m\n\u001b[1;32m      1\u001b[0m \u001b[38;5;66;03m# how can I DRY up that code and use a loop?\u001b[39;00m\n\u001b[0;32m----> 3\u001b[0m \u001b[38;5;28;43;01mfor\u001b[39;49;00m\u001b[43m \u001b[49m\u001b[43mcounter\u001b[49m\u001b[43m \u001b[49m\u001b[38;5;129;43;01min\u001b[39;49;00m\u001b[43m \u001b[49m\u001b[38;5;241;43m3\u001b[39;49m\u001b[43m:\u001b[49m\n\u001b[1;32m      4\u001b[0m \u001b[43m    \u001b[49m\u001b[38;5;28;43mprint\u001b[39;49m\u001b[43m(\u001b[49m\u001b[38;5;124;43m'\u001b[39;49m\u001b[38;5;124;43mHooray!\u001b[39;49m\u001b[38;5;124;43m'\u001b[39;49m\u001b[43m)\u001b[49m\n",
      "\u001b[0;31mTypeError\u001b[0m: 'int' object is not iterable"
     ]
    }
   ],
   "source": [
    "# how can I DRY up that code and use a loop?\n",
    "\n",
    "for counter in 3:\n",
    "    print('Hooray!')"
   ]
  },
  {
   "cell_type": "markdown",
   "metadata": {},
   "source": [
    "# What happened, and how can we fix it?\n",
    "\n",
    "Strings are iterable; they know what to do in a `for` loop -- give us one character at a time, from start to end.\n",
    "\n",
    "Integers are *not* iterable. So `for` turned to 3 and asked: Are you iterable? It said \"no,\" and the loop exited with an error.\n",
    "\n",
    "We know that this is something people will want to do. So Python provides it with the `range` builtin. If we invoke `range` on an integer, we can now iterate that number of times."
   ]
  },
  {
   "cell_type": "code",
   "execution_count": 9,
   "metadata": {},
   "outputs": [
    {
     "name": "stdout",
     "output_type": "stream",
     "text": [
      "Hooray!\n",
      "Hooray!\n",
      "Hooray!\n"
     ]
    }
   ],
   "source": [
    "for counter in range(3):\n",
    "    print('Hooray!')"
   ]
  },
  {
   "cell_type": "code",
   "execution_count": 12,
   "metadata": {},
   "outputs": [
    {
     "name": "stdout",
     "output_type": "stream",
     "text": [
      "[0] Hooray!\n",
      "[1] Hooray!\n",
      "[2] Hooray!\n"
     ]
    }
   ],
   "source": [
    "# what values are being put into counter with each iteration?\n",
    "\n",
    "for counter in range(3):\n",
    "    print(f'[{counter}] Hooray!')"
   ]
  },
  {
   "cell_type": "markdown",
   "metadata": {},
   "source": [
    "# `range`\n",
    "\n",
    "If we invoke `range(n)`, then we'll get `n` iterations of our loop, starting at 0 and going up to `n-1`. This is perfect for a number of tasks."
   ]
  },
  {
   "cell_type": "code",
   "execution_count": 11,
   "metadata": {},
   "outputs": [
    {
     "data": {
      "text/plain": [
       "False"
      ]
     },
     "execution_count": 11,
     "metadata": {},
     "output_type": "execute_result"
    }
   ],
   "source": [
    "# AL is asking about the exercise, where want to know if a character is a digit\n",
    "\n",
    "one_character = '5'   # this is a one-character string\n",
    "\n",
    "type(one_character) == int"
   ]
  },
  {
   "cell_type": "markdown",
   "metadata": {},
   "source": [
    "# Exercise: Name triangles\n",
    "\n",
    "1. Ask the user to enter their name.\n",
    "2. Print the name as a triangle:\n",
    "    - On the first line, print just the first letter of the name.\n",
    "    - On the second line, print the first two letters in the name.\n",
    "    - ....\n",
    "    - On the final line, print the full name.\n",
    "\n",
    "```\n",
    "Enter your name: Reuven\n",
    "\n",
    "R\n",
    "Re\n",
    "Reu\n",
    "Reuv\n",
    "Reuve\n",
    "Reuven\n",
    "```"
   ]
  },
  {
   "cell_type": "code",
   "execution_count": 13,
   "metadata": {},
   "outputs": [
    {
     "name": "stdin",
     "output_type": "stream",
     "text": [
      "Enter your name:  Reuven\n"
     ]
    },
    {
     "name": "stdout",
     "output_type": "stream",
     "text": [
      "R\n",
      "Re\n",
      "Reu\n",
      "Reuv\n",
      "Reuve\n",
      "Reuven\n"
     ]
    }
   ],
   "source": [
    "name = input('Enter your name: ').strip()\n",
    "\n",
    "print(name[:1])\n",
    "print(name[:2])\n",
    "print(name[:3])\n",
    "print(name[:4])\n",
    "print(name[:5])\n",
    "print(name[:6])\n"
   ]
  },
  {
   "cell_type": "code",
   "execution_count": null,
   "metadata": {},
   "outputs": [],
   "source": [
    "# if we can iterate from 0 through the highest index, then we can add 1 to that and print\n",
    "\n",
    "name = input('Enter your name: ').strip()\n",
    "\n",
    "print(name[:1])\n",
    "print(name[:2])\n",
    "print(name[:3])\n",
    "print(name[:4])\n",
    "print(name[:5])\n",
    "print(name[:6])\n"
   ]
  }
 ],
 "metadata": {
  "kernelspec": {
   "display_name": "Python 3 (ipykernel)",
   "language": "python",
   "name": "python3"
  },
  "language_info": {
   "codemirror_mode": {
    "name": "ipython",
    "version": 3
   },
   "file_extension": ".py",
   "mimetype": "text/x-python",
   "name": "python",
   "nbconvert_exporter": "python",
   "pygments_lexer": "ipython3",
   "version": "3.13.0"
  }
 },
 "nbformat": 4,
 "nbformat_minor": 4
}
