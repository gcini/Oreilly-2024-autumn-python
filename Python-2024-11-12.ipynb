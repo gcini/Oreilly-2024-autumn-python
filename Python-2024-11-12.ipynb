{
 "cells": [
  {
   "cell_type": "markdown",
   "metadata": {},
   "source": [
    "# Week 2: Loops, lists, and tuples\n",
    "\n",
    "1. Quick recap from last week\n",
    "2. Any questions?\n",
    "3. Loops\n",
    "    - What are they for?\n",
    "    - `for` and `while` loops\n",
    "    - Looping a number of times\n",
    "    - Indexes (or the lack thereof) and `enumerate`\n",
    "    - Controlling our loops\n",
    "    - `while` loops\n",
    "4. Lists -- a new data structure\n",
    "    - What are lists?\n",
    "    - Creating lists\n",
    "    - List methods\n",
    "    - Lists are *mutable*\n",
    "5. Strings to lists, and back\n",
    "    - Using the `str.split` method to turn a string into a list\n",
    "    - Using the `str.join` method to turn a list into a string\n",
    "6. Tuples\n",
    "    - What are tuples?\n",
    "    - How are they related to strings and lists?\n",
    "    - Tuple unpacking"
   ]
  },
  {
   "cell_type": "markdown",
   "metadata": {},
   "source": [
    "# Recap \n",
    "\n",
    "We talked about a lot of topics last week:\n",
    "\n",
    "- Values, and different data structures (especially `int`, `float`, and `str`)\n",
    "- Assigning values to variables with `=`\n",
    "- Comparing values with a number of *comparison operators*\n",
    "    - `==`\n",
    "    - `!=`\n",
    "    - `<`, `<=`\n",
    "    - `>`, `>=`\n",
    "- Use `if`, `elif`, and `else` to choose which path to take in our program\n",
    "    - Use an indented block to indicate what code should run\n",
    "    - We can use `and` and `or` to combine conditions into one larger one\n",
    "- Numbers (`int` and `float`)\n",
    "    - We can turn another value into an `int` by invoking `int` on it\n",
    "    - We can turn another value into a `float` by invoking `float` on it\n",
    "    - Floats and integers can work together just fine\n",
    "- Strings\n",
    "    - Creating strings with quotes of various sorts\n",
    "    - f-strings, which let us interpolate values into our strings\n",
    "    - Using `[]` to retrieve values from a string\n",
    "        - We can use a single integer to get one character\n",
    "        - We can use `[start:stop]` to get a *slice* from our string\n",
    "    - We can retrieve from the end of a string with negative indexes, starting from -1\n",
    "- Methods\n",
    "    - Methods are functions that are connected to an object; their name always has a `.` before it\n",
    "    - We can use `str.strip()` to remove any whitespace that might be on a string\n",
    "    - We can use `str.isdigit()` to check if a string only contains digits 0-9, and thus can be turned into an `int` without errors"
   ]
  },
  {
   "cell_type": "markdown",
   "metadata": {},
   "source": [
    "# What's an object?\n",
    "\n",
    "There's a popular school of programming, known as \"object-oriented programming,\" in which we create new data types / data structures, and the methods that go along with those. Python is built using this technique, and so it's common for the various types of values to have methods.\n",
    "\n",
    "Every value in Python is actually an object, but I could just as easily say \"value\" instead of \"object,\" to make it a bit clearer.  Integers, floats, and strings are all different types of *values*, which we can also say are different types of *objects*.\n",
    "\n",
    "If and when you do object-oriented programming, you can write your own methods. But you cannot add/modify/remove methods on Python's core data structures."
   ]
  },
  {
   "cell_type": "markdown",
   "metadata": {},
   "source": [
    "# Loops\n",
    "\n",
    "One of the most important ideas in programming is \"DRY,\" which stands for \"don't repeat yourself.\" Consider if we have a string, and want to print every character in the string."
   ]
  },
  {
   "cell_type": "code",
   "execution_count": 2,
   "metadata": {},
   "outputs": [
    {
     "name": "stdout",
     "output_type": "stream",
     "text": [
      "a\n",
      "b\n",
      "c\n",
      "d\n"
     ]
    }
   ],
   "source": [
    "s = 'abcd'\n",
    "\n",
    "print(s[0])\n",
    "print(s[1])\n",
    "print(s[2])\n",
    "print(s[3])"
   ]
  },
  {
   "cell_type": "markdown",
   "metadata": {},
   "source": [
    "What we have here is some code where we've repeated ourselves... which is something we want to avoid as much as possible. It would be great to just tell Python, \"Go through each character in the string, and print it on the screen.\"\n",
    "\n",
    "This is where *loops* come in. They do exactly what I just described."
   ]
  },
  {
   "cell_type": "code",
   "execution_count": 3,
   "metadata": {},
   "outputs": [
    {
     "name": "stdout",
     "output_type": "stream",
     "text": [
      "a\n",
      "b\n",
      "c\n",
      "d\n"
     ]
    }
   ],
   "source": [
    "# A loop doing what we did above, manually\n",
    "\n",
    "for one_character in s:\n",
    "    print(one_character)"
   ]
  },
  {
   "cell_type": "markdown",
   "metadata": {},
   "source": [
    "# Parts of the loop, and what actually happens\n",
    "\n",
    "- `for` starts the loop\n",
    "- Then we have the *loop variable*, the variable into which each value from `s` will be assigned. This variable, like all variables in Python, can have *any* name you want; Python doesn't pay attention to that name.\n",
    "- Then we say `in` and `s`, meaning that we want to loop over `s`.\n",
    "- At the end of the line, we have a colon (`:`)\n",
    "- Right after a colon, we start an indented block; in this case, it's only one line long, but it can have any number of lines, and any code at all that we want to execute.\n",
    "\n",
    "### A dialogue to describe what's happening in the loop\n",
    "\n",
    "1. `for` turns to `s`, and asks it: Are you *iterable*? Meaning, do you know how to behave inside of a `for` loop?\n",
    "    - If not, then we get an error message.\n",
    "2. `for` turns to `s`, and asks it for its *next* value.\n",
    "    - If it's at the end of the values, then the loop exits.\n",
    "3. If there is a value, then it's assigned to our loop variable, `one_character`\n",
    "4. The loop body is executed\n",
    "5. We go back to step 2, and ask for the next value.\n",
    "\n",
    "### Notice\n",
    "\n",
    "1. The `for` loop has no idea of how many iterations it's going to run.\n",
    "2. The value at the end of the line (`s`, here) is in charge of how many iterations we'll have.\n",
    "3. There's no index variable here, keeping track of where we are in `s`.\n",
    "4. Who is really in charge here? The value `s`. Because it's a string, we get one character at a time. But that's up to the value, not to the `for` loop."
   ]
  },
  {
   "cell_type": "markdown",
   "metadata": {},
   "source": [
    "# Exercise: Vowels, digits, and others\n",
    "\n",
    "1. Ask the user to enter some text, and store it in a variable.\n",
    "2. Define three variables -- `vowels`, `digits`, and `others` -- to be 0.\n",
    "3. Go through each character in the user's text, and check the character:\n",
    "    - If it's a digit, then add 1 to `digits`\n",
    "    - If it's a vowel (a, e, i, o, u), then add 1 to vowels\n",
    "    - Otherwise, add 1 to `others`\n",
    "4. At the end of the run, print the values of all three variables.\n",
    "\n",
    "Example:\n",
    "\n",
    "    Enter text: hello!! 123\n",
    "    vowels: 2\n",
    "    digits: 3\n",
    "    others: 6"
   ]
  },
  {
   "cell_type": "code",
   "execution_count": 4,
   "metadata": {},
   "outputs": [
    {
     "name": "stdin",
     "output_type": "stream",
     "text": [
      "Enter text:  hello!! 123\n"
     ]
    },
    {
     "name": "stdout",
     "output_type": "stream",
     "text": [
      "vowels = 2\n",
      "digits = 3\n",
      "others = 6\n"
     ]
    }
   ],
   "source": [
    "vowels = 0\n",
    "digits = 0\n",
    "others = 0\n",
    "\n",
    "text = input('Enter text: ').strip()\n",
    "\n",
    "for one_character in text:\n",
    "    if one_character in 'aeiou':   # if the current character is a vowel...\n",
    "        vowels += 1                #  ... add 1 to the vowel count\n",
    "    elif one_character.isdigit():  # if the current character is a digit...\n",
    "        digits += 1                #  ... add 1 to the digit count\n",
    "    else:\n",
    "        others += 1                # otherwise, add 1 to the \"others\" count\n",
    "\n",
    "print(f'vowels = {vowels}')\n",
    "print(f'digits = {digits}')\n",
    "print(f'others = {others}')"
   ]
  },
  {
   "cell_type": "code",
   "execution_count": null,
   "metadata": {},
   "outputs": [],
   "source": [
    "# AI\n",
    "\n",
    "user_text = input(\"Enter text: \")\n",
    "\n",
    "# Define the counters for vowels, digits, and others\n",
    "vowels = 0\n",
    "digits = 0\n",
    "others = 0\n",
    "\n",
    "# Go through each character in the user's text\n",
    "for char in user_text:\n",
    "    if char.isdigit():\n",
    "        digits += 1  # If it's a digit, add 1 to digits\n",
    "    elif char.lower() in 'aeiou':\n",
    "        vowels += 1  # If it's a vowel, add 1 to vowels\n",
    "    else:\n",
    "        others += 1"
   ]
  },
  {
   "cell_type": "markdown",
   "metadata": {},
   "source": [
    "# How can we use loops?\n",
    "\n",
    "- Go through each file in a directory\n",
    "- Go through each line of a file\n",
    "- Go through each computer on a network\n",
    "- Go through each user in a database"
   ]
  },
  {
   "cell_type": "code",
   "execution_count": null,
   "metadata": {},
   "outputs": [],
   "source": [
    "# LK\n",
    "\n",
    "vowels = 0\n",
    "digits = 0\n",
    "others = 0\n",
    "text =input('Enter test: ').strip()\n",
    "for one_character in text:\n",
    "    if one_character in \"aeiou\":\n",
    "        vowels += 1\n",
    "    elif one_character.isdigit():\n",
    "        digits += 1\n",
    "    else:\n",
    "        others +=1\n",
    "print('Hello! 123')\n",
    "print('vowels: ', vowels)\n",
    "print('digits: ', digits)\n",
    "print('others: ', others)"
   ]
  },
  {
   "cell_type": "code",
   "execution_count": 6,
   "metadata": {},
   "outputs": [
    {
     "name": "stdin",
     "output_type": "stream",
     "text": [
      "Enter your text:  hello!! 123\n"
     ]
    },
    {
     "name": "stdout",
     "output_type": "stream",
     "text": [
      "Digits: 3 \n",
      "\n",
      "Vowels: 2 \n",
      "\n",
      "Others: 6 \n",
      "\n"
     ]
    }
   ],
   "source": [
    "# AR\n",
    "\n",
    "# Vowels, digits and others\n",
    "utext = input('Enter your text: ')\n",
    "vowels = 0\n",
    "digits = 0\n",
    "others = 0\n",
    "for t in utext:\n",
    "  if t.isdigit():   # if you don't invoke the method with (), you're asking: Does the method exist?\n",
    "    digits=digits+1\n",
    "  elif t in 'aeiou':\n",
    "    vowels=vowels+1\n",
    "  else:\n",
    "    others=others+1\n",
    "print(f'Digits: {digits} \\n')\n",
    "print(f'Vowels: {vowels} \\n')\n",
    "print(f'Others: {others} \\n')\n"
   ]
  },
  {
   "cell_type": "markdown",
   "metadata": {},
   "source": [
    "# What if we want to loop a number of times?\n",
    "\n",
    "I might want to perform a task 3 times, or 30 times, or 3,000 times.. how can I do that?"
   ]
  },
  {
   "cell_type": "code",
   "execution_count": 7,
   "metadata": {},
   "outputs": [
    {
     "name": "stdout",
     "output_type": "stream",
     "text": [
      "Hooray!\n",
      "Hooray!\n",
      "Hooray!\n"
     ]
    }
   ],
   "source": [
    "print('Hooray!')\n",
    "print('Hooray!')\n",
    "print('Hooray!')"
   ]
  },
  {
   "cell_type": "code",
   "execution_count": 8,
   "metadata": {},
   "outputs": [
    {
     "ename": "TypeError",
     "evalue": "'int' object is not iterable",
     "output_type": "error",
     "traceback": [
      "\u001b[0;31m---------------------------------------------------------------------------\u001b[0m",
      "\u001b[0;31mTypeError\u001b[0m                                 Traceback (most recent call last)",
      "Cell \u001b[0;32mIn[8], line 3\u001b[0m\n\u001b[1;32m      1\u001b[0m \u001b[38;5;66;03m# how can I DRY up that code and use a loop?\u001b[39;00m\n\u001b[0;32m----> 3\u001b[0m \u001b[38;5;28;43;01mfor\u001b[39;49;00m\u001b[43m \u001b[49m\u001b[43mcounter\u001b[49m\u001b[43m \u001b[49m\u001b[38;5;129;43;01min\u001b[39;49;00m\u001b[43m \u001b[49m\u001b[38;5;241;43m3\u001b[39;49m\u001b[43m:\u001b[49m\n\u001b[1;32m      4\u001b[0m \u001b[43m    \u001b[49m\u001b[38;5;28;43mprint\u001b[39;49m\u001b[43m(\u001b[49m\u001b[38;5;124;43m'\u001b[39;49m\u001b[38;5;124;43mHooray!\u001b[39;49m\u001b[38;5;124;43m'\u001b[39;49m\u001b[43m)\u001b[49m\n",
      "\u001b[0;31mTypeError\u001b[0m: 'int' object is not iterable"
     ]
    }
   ],
   "source": [
    "# how can I DRY up that code and use a loop?\n",
    "\n",
    "for counter in 3:\n",
    "    print('Hooray!')"
   ]
  },
  {
   "cell_type": "markdown",
   "metadata": {},
   "source": [
    "# What happened, and how can we fix it?\n",
    "\n",
    "Strings are iterable; they know what to do in a `for` loop -- give us one character at a time, from start to end.\n",
    "\n",
    "Integers are *not* iterable. So `for` turned to 3 and asked: Are you iterable? It said \"no,\" and the loop exited with an error.\n",
    "\n",
    "We know that this is something people will want to do. So Python provides it with the `range` builtin. If we invoke `range` on an integer, we can now iterate that number of times."
   ]
  },
  {
   "cell_type": "code",
   "execution_count": 9,
   "metadata": {},
   "outputs": [
    {
     "name": "stdout",
     "output_type": "stream",
     "text": [
      "Hooray!\n",
      "Hooray!\n",
      "Hooray!\n"
     ]
    }
   ],
   "source": [
    "for counter in range(3):\n",
    "    print('Hooray!')"
   ]
  },
  {
   "cell_type": "code",
   "execution_count": 12,
   "metadata": {},
   "outputs": [
    {
     "name": "stdout",
     "output_type": "stream",
     "text": [
      "[0] Hooray!\n",
      "[1] Hooray!\n",
      "[2] Hooray!\n"
     ]
    }
   ],
   "source": [
    "# what values are being put into counter with each iteration?\n",
    "\n",
    "for counter in range(3):\n",
    "    print(f'[{counter}] Hooray!')"
   ]
  },
  {
   "cell_type": "markdown",
   "metadata": {},
   "source": [
    "# `range`\n",
    "\n",
    "If we invoke `range(n)`, then we'll get `n` iterations of our loop, starting at 0 and going up to `n-1`. This is perfect for a number of tasks."
   ]
  },
  {
   "cell_type": "code",
   "execution_count": 11,
   "metadata": {},
   "outputs": [
    {
     "data": {
      "text/plain": [
       "False"
      ]
     },
     "execution_count": 11,
     "metadata": {},
     "output_type": "execute_result"
    }
   ],
   "source": [
    "# AL is asking about the exercise, where want to know if a character is a digit\n",
    "\n",
    "one_character = '5'   # this is a one-character string\n",
    "\n",
    "type(one_character) == int"
   ]
  },
  {
   "cell_type": "markdown",
   "metadata": {},
   "source": [
    "# Exercise: Name triangles\n",
    "\n",
    "1. Ask the user to enter their name.\n",
    "2. Print the name as a triangle:\n",
    "    - On the first line, print just the first letter of the name.\n",
    "    - On the second line, print the first two letters in the name.\n",
    "    - ....\n",
    "    - On the final line, print the full name.\n",
    "\n",
    "```\n",
    "Enter your name: Reuven\n",
    "\n",
    "R\n",
    "Re\n",
    "Reu\n",
    "Reuv\n",
    "Reuve\n",
    "Reuven\n",
    "```"
   ]
  },
  {
   "cell_type": "code",
   "execution_count": 13,
   "metadata": {},
   "outputs": [
    {
     "name": "stdin",
     "output_type": "stream",
     "text": [
      "Enter your name:  Reuven\n"
     ]
    },
    {
     "name": "stdout",
     "output_type": "stream",
     "text": [
      "R\n",
      "Re\n",
      "Reu\n",
      "Reuv\n",
      "Reuve\n",
      "Reuven\n"
     ]
    }
   ],
   "source": [
    "name = input('Enter your name: ').strip()\n",
    "\n",
    "print(name[:1])\n",
    "print(name[:2])\n",
    "print(name[:3])\n",
    "print(name[:4])\n",
    "print(name[:5])\n",
    "print(name[:6])\n"
   ]
  },
  {
   "cell_type": "code",
   "execution_count": 16,
   "metadata": {},
   "outputs": [
    {
     "name": "stdin",
     "output_type": "stream",
     "text": [
      "Enter your name:  Reuven\n"
     ]
    },
    {
     "name": "stdout",
     "output_type": "stream",
     "text": [
      "R\n",
      "Re\n",
      "Reu\n",
      "Reuv\n",
      "Reuve\n",
      "Reuven\n"
     ]
    }
   ],
   "source": [
    "# if we can iterate from 0 through the highest index, then we can add 1 to that and print\n",
    "\n",
    "name = input('Enter your name: ').strip()\n",
    "\n",
    "# if name is 'Reuven', then len(name) is 6,\n",
    "# then range(len(name)) will go from 0 through 5 (i.e., up to and not including 6)\n",
    "\n",
    "for max_index in range(len(name)):\n",
    "    print(name[:max_index+1])"
   ]
  },
  {
   "cell_type": "code",
   "execution_count": null,
   "metadata": {},
   "outputs": [],
   "source": [
    "# AI\n",
    "\n",
    "# Ask the user to enter their name\n",
    "name = input(\"Enter your name: \")\n",
    "\n",
    "# Print the name as a triangle\n",
    "for i in range(1, len(name) + 1):   # this is the 2-argument version of range, where we say the starting point and the ending point\n",
    "    print(name[:i])"
   ]
  },
  {
   "cell_type": "code",
   "execution_count": 17,
   "metadata": {},
   "outputs": [
    {
     "data": {
      "text/plain": [
       "'Reuven'"
      ]
     },
     "execution_count": 17,
     "metadata": {},
     "output_type": "execute_result"
    }
   ],
   "source": [
    "name"
   ]
  },
  {
   "cell_type": "code",
   "execution_count": 19,
   "metadata": {},
   "outputs": [
    {
     "ename": "TypeError",
     "evalue": "count expected at least 1 argument, got 0",
     "output_type": "error",
     "traceback": [
      "\u001b[0;31m---------------------------------------------------------------------------\u001b[0m",
      "\u001b[0;31mTypeError\u001b[0m                                 Traceback (most recent call last)",
      "Cell \u001b[0;32mIn[19], line 1\u001b[0m\n\u001b[0;32m----> 1\u001b[0m \u001b[43mname\u001b[49m\u001b[38;5;241;43m.\u001b[39;49m\u001b[43mcount\u001b[49m\u001b[43m(\u001b[49m\u001b[43m)\u001b[49m  \u001b[38;5;66;03m# this method counts how many times its argument is in name\u001b[39;00m\n",
      "\u001b[0;31mTypeError\u001b[0m: count expected at least 1 argument, got 0"
     ]
    }
   ],
   "source": [
    "name.count()  # this method counts how many times its argument is in name"
   ]
  },
  {
   "cell_type": "code",
   "execution_count": 20,
   "metadata": {},
   "outputs": [
    {
     "data": {
      "text/plain": [
       "2"
      ]
     },
     "execution_count": 20,
     "metadata": {},
     "output_type": "execute_result"
    }
   ],
   "source": [
    "name.count('e')"
   ]
  },
  {
   "cell_type": "code",
   "execution_count": null,
   "metadata": {},
   "outputs": [],
   "source": [
    "# AS\n",
    "\n",
    "name = input(\"your name\")\n",
    "length = len(name)\n",
    "\n",
    "for one in range(length):\n",
    "    print(name[0:one+1])\n",
    "          "
   ]
  },
  {
   "cell_type": "markdown",
   "metadata": {},
   "source": [
    "# How can we know what methods exist, and what they do?\n",
    "\n",
    "The Python documentation, at https://docs.python.org/3/library/index.html, describes all data types in Python and all methods."
   ]
  },
  {
   "cell_type": "code",
   "execution_count": 21,
   "metadata": {},
   "outputs": [
    {
     "ename": "_IncompleteInputError",
     "evalue": "incomplete input (1700276689.py, line 6)",
     "output_type": "error",
     "traceback": [
      "\u001b[0;36m  Cell \u001b[0;32mIn[21], line 6\u001b[0;36m\u001b[0m\n\u001b[0;31m    \u001b[0m\n\u001b[0m    ^\u001b[0m\n\u001b[0;31m_IncompleteInputError\u001b[0m\u001b[0;31m:\u001b[0m incomplete input\n"
     ]
    }
   ],
   "source": [
    "# can you repeat what \"for max_index in range(len(name)):\" means in laymen terms?\n",
    "\n",
    "for max_index in range(len(name)):   "
   ]
  },
  {
   "cell_type": "markdown",
   "metadata": {},
   "source": [
    "# What happens in the above line:\n",
    "\n",
    "1. Python invokes `len(name)` -- what is the length of the name? That give us an integer.\n",
    "2. Python invokes `range(len(name))`, which is a range that will return the same number of values as there are characters in `name`. If `name` has 5 characters, this `range` will give us 0, 1, 2, 3, and 4 -- for a total of 5.  But if `len(name)` is 10, then it'll return 10 values, one at a time (0 - 9), to a `for` loop\n",
    "3. Next, the `for` loop turns to this `range` value, and asks if it's iterable. It is!\n",
    "4. Then the `for` loop iterates that many times.\n",
    "\n",
    "Bottom line: It runs the `for` loop once for each letter in the person's name."
   ]
  },
  {
   "cell_type": "code",
   "execution_count": 25,
   "metadata": {},
   "outputs": [
    {
     "name": "stdin",
     "output_type": "stream",
     "text": [
      "enter your name:  Reuven\n"
     ]
    },
    {
     "name": "stdout",
     "output_type": "stream",
     "text": [
      "R\n",
      "Re\n",
      "Reu\n",
      "Reuv\n",
      "Reuve\n",
      "Reuven\n"
     ]
    }
   ],
   "source": [
    "# AL\n",
    "\n",
    "name=input('enter your name: ').strip()\n",
    "max_range=len(name)\n",
    "\n",
    "for character in range(max_range):\n",
    "    print(f'{name[:character+1]}')   # up to and *not including* index name_iteration"
   ]
  },
  {
   "cell_type": "code",
   "execution_count": null,
   "metadata": {},
   "outputs": [],
   "source": [
    "# AJ\n",
    "\n",
    "name = input(\"Enter your name: \")\n",
    "i=0\n",
    "for letters in name:\n",
    "    print(name[0:i+1])\n",
    "    i= i+1"
   ]
  },
  {
   "cell_type": "code",
   "execution_count": 28,
   "metadata": {
    "scrolled": true
   },
   "outputs": [
    {
     "name": "stdout",
     "output_type": "stream",
     "text": [
      "R\n",
      "Re\n",
      "Reu\n",
      "Reuv\n",
      "Reuve\n",
      "Reuven\n"
     ]
    }
   ],
   "source": [
    "# instead, we can just say\n",
    "\n",
    "for counter in range(len(name)):\n",
    "    print(name[:counter+1])"
   ]
  },
  {
   "cell_type": "markdown",
   "metadata": {
    "jp-MarkdownHeadingCollapsed": true
   },
   "source": [
    "# Next up\n",
    "\n",
    "- Where's the index?\n",
    "- `while` loops\n",
    "- "
   ]
  },
  {
   "cell_type": "markdown",
   "metadata": {},
   "source": [
    "# Where's the index?\n",
    "\n",
    "In many programming languages, a `for` loop looks and acts very different: It iterates over a set of numbers, typically starting at 0 and going up to some maximum. To retrieve a character from a string, we use the loop variable's current value.\n",
    "\n",
    "In Python, we get the character directly. And there is no index, at least not by default. Why not?\n",
    "\n",
    "Answer: We don't need it. \n",
    "\n",
    "In C and Java, you can't just get the character directly. You need the index.  We don't care about the index; we just use it in order to get the characters we do want.\n",
    "\n",
    "In Python, we get the characters. Why care about the index, which was always a means to an end?\n",
    "\n",
    "Sometimes, though, we do want to have the index... maybe, for example, we want to print the characters along with their indexes.\n",
    "\n",
    "How can we do that?"
   ]
  },
  {
   "cell_type": "code",
   "execution_count": 31,
   "metadata": {},
   "outputs": [
    {
     "name": "stdout",
     "output_type": "stream",
     "text": [
      "0, a\n",
      "1, b\n",
      "2, c\n",
      "3, d\n"
     ]
    }
   ],
   "source": [
    "# option 1: manually create an index\n",
    "\n",
    "index = 0\n",
    "\n",
    "for one_character in 'abcd':\n",
    "    print(f'{index}, {one_character}')\n",
    "    index += 1"
   ]
  },
  {
   "cell_type": "code",
   "execution_count": 32,
   "metadata": {
    "scrolled": true
   },
   "outputs": [
    {
     "name": "stdout",
     "output_type": "stream",
     "text": [
      "0, a\n",
      "1, b\n",
      "2, c\n",
      "3, d\n"
     ]
    }
   ],
   "source": [
    "# option 2: use enumerate\n",
    "# enumerate is a special builtin function in Python. It wraps around something\n",
    "# that's iterable, and then gives us *TWO* values with each iteration -- the index and the original value\n",
    "\n",
    "for index, one_character in enumerate('abcd'):\n",
    "    print(f'{index}, {one_character}')"
   ]
  },
  {
   "cell_type": "markdown",
   "metadata": {},
   "source": [
    "# Exercise: Powers of 10\n",
    "\n",
    "A decimal number can be expressed by displaying each digit as a multiple of a power of 10.\n",
    "\n",
    "Example:\n",
    "\n",
    "    1357\n",
    "\n",
    "is also expressable as\n",
    "\n",
    "    1 * 10**3  +  3 * 10**2  + 5 * 10**1  + 7 * 10**0\n",
    "\n",
    "1. Ask the user to enter a number.\n",
    "2. (If you want, you can check it only contains digits)\n",
    "3. Print it in the expanded form I showed here, with each number multiplied by a power of 10.\n"
   ]
  },
  {
   "cell_type": "code",
   "execution_count": 39,
   "metadata": {
    "scrolled": true
   },
   "outputs": [
    {
     "name": "stdin",
     "output_type": "stream",
     "text": [
      "Enter a number:  1357\n"
     ]
    },
    {
     "name": "stdout",
     "output_type": "stream",
     "text": [
      "1 * 10**3\n",
      "3 * 10**2\n",
      "5 * 10**1\n",
      "7 * 10**0\n"
     ]
    }
   ],
   "source": [
    "s = input('Enter a number: ').strip()\n",
    "\n",
    "for index, one_digit in enumerate(s):\n",
    "    power = len(s) - index - 1\n",
    "    print(f'{one_digit} * 10**{power}')"
   ]
  },
  {
   "cell_type": "code",
   "execution_count": null,
   "metadata": {},
   "outputs": [],
   "source": [
    "# where is one_character defined in this code?\n",
    "# answer: \"for\" assigns to it on our behalf, once per iteration\n",
    "\n",
    "for one_character in 'abcd':\n",
    "    print(one_character)"
   ]
  },
  {
   "cell_type": "markdown",
   "metadata": {},
   "source": [
    "# `while` loops\n",
    "\n",
    "A `for` loop is great:\n",
    "\n",
    "- If we want to run some code for each element of a string (or other data structure)\n",
    "- If we know how many times we want to run the code\n",
    "\n",
    "BUT what if we don't know how many times we want to run? What if we'll only know when we're running?\n",
    "\n",
    "For that, we have `while` loops. You can think of a `while` loop as an `if` statement that keeps running its body until the condition is `False`. This is perfect for when we don't know how many iterations we'll need, but we do know when we want to stop."
   ]
  },
  {
   "cell_type": "code",
   "execution_count": 40,
   "metadata": {
    "scrolled": true
   },
   "outputs": [
    {
     "name": "stdout",
     "output_type": "stream",
     "text": [
      "5\n",
      "4\n",
      "3\n",
      "2\n",
      "1\n"
     ]
    }
   ],
   "source": [
    "x = 5\n",
    "\n",
    "while x > 0:    # this is a condition that can be True/False\n",
    "    print(x)\n",
    "    x -= 1   # same as x = x - 1, meaning: reduce it by 1 with each iteration"
   ]
  },
  {
   "cell_type": "markdown",
   "metadata": {},
   "source": [
    "# Exercise: Sum to 100\n",
    "\n",
    "1. Set up `total` to be 0.\n",
    "2. Ask the user to enter a number.\n",
    "    - If they enter a non-number, scold them and keep going\n",
    "3. As that number to `total`.\n",
    "4. When `total` is 100 or more, stop asking and print the total.\n",
    "\n",
    "Example:\n",
    "\n",
    "    Enter a number: 20\n",
    "    total is 20\n",
    "    Enter a number: 35\n",
    "    total is 55\n",
    "    Enter a number: hello\n",
    "    hello is not a number\n",
    "    Enter a number: 50\n",
    "    total is 105\n",
    "    exiting"
   ]
  },
  {
   "cell_type": "code",
   "execution_count": 45,
   "metadata": {
    "scrolled": true
   },
   "outputs": [
    {
     "name": "stdin",
     "output_type": "stream",
     "text": [
      "Enter a number:  20\n"
     ]
    },
    {
     "name": "stdout",
     "output_type": "stream",
     "text": [
      "total = 20\n"
     ]
    },
    {
     "name": "stdin",
     "output_type": "stream",
     "text": [
      "Enter a number:  25\n"
     ]
    },
    {
     "name": "stdout",
     "output_type": "stream",
     "text": [
      "total = 45\n"
     ]
    },
    {
     "name": "stdin",
     "output_type": "stream",
     "text": [
      "Enter a number:  hello\n"
     ]
    },
    {
     "name": "stdout",
     "output_type": "stream",
     "text": [
      "hello is not numeric\n"
     ]
    },
    {
     "name": "stdin",
     "output_type": "stream",
     "text": [
      "Enter a number:  30\n"
     ]
    },
    {
     "name": "stdout",
     "output_type": "stream",
     "text": [
      "total = 75\n"
     ]
    },
    {
     "name": "stdin",
     "output_type": "stream",
     "text": [
      "Enter a number:  28\n"
     ]
    },
    {
     "name": "stdout",
     "output_type": "stream",
     "text": [
      "total = 103\n",
      "exiting\n"
     ]
    }
   ],
   "source": [
    "total = 0\n",
    "\n",
    "while total < 100:\n",
    "    s = input('Enter a number: ').strip()\n",
    "\n",
    "    if s.isdigit():\n",
    "        n = int(s)     # n is an integer based on the string s\n",
    "        total += n     # we add n to total\n",
    "\n",
    "        print(f'total = {total}')\n",
    "    else:\n",
    "        print(f'{s} is not numeric')\n",
    "print('exiting')    "
   ]
  },
  {
   "cell_type": "markdown",
   "metadata": {},
   "source": [
    "# Controlling our loops\n",
    "\n",
    "Sometimes, you want to exit a loop prematurely. This comes in two flavors:\n",
    "\n",
    "- You might want to exit the current iteration, and go onto the next one.  This is the `continue` command in Python.\n",
    "- You might want to exit the loop completely, right now. This is the `break` command in Python.\n",
    "\n",
    "Both of these work with both `for` and `while` loops."
   ]
  },
  {
   "cell_type": "code",
   "execution_count": 46,
   "metadata": {
    "scrolled": true
   },
   "outputs": [
    {
     "name": "stdin",
     "output_type": "stream",
     "text": [
      "Enter your name:  Reuven\n"
     ]
    },
    {
     "name": "stdout",
     "output_type": "stream",
     "text": [
      "Hello, Reuven.\n"
     ]
    },
    {
     "name": "stdin",
     "output_type": "stream",
     "text": [
      "Enter your name:  someone else\n"
     ]
    },
    {
     "name": "stdout",
     "output_type": "stream",
     "text": [
      "Hello, someone else.\n"
     ]
    },
    {
     "name": "stdin",
     "output_type": "stream",
     "text": [
      "Enter your name:  Whoever\n"
     ]
    },
    {
     "name": "stdout",
     "output_type": "stream",
     "text": [
      "Hello, Whoever.\n"
     ]
    },
    {
     "name": "stdin",
     "output_type": "stream",
     "text": [
      "Enter your name:  \n"
     ]
    }
   ],
   "source": [
    "while True:    # this is an infinite loop! It will keep running forever!\n",
    "    name = input('Enter your name: ').strip()\n",
    "\n",
    "    if name == '':   # empty string?\n",
    "        break\n",
    "    \n",
    "    print(f'Hello, {name}.')"
   ]
  },
  {
   "cell_type": "markdown",
   "metadata": {},
   "source": [
    "# Next up: Lists!"
   ]
  },
  {
   "cell_type": "markdown",
   "metadata": {},
   "source": [
    "# Lists\n",
    "\n",
    "A list is a \"container,\" meaning that it contains other values.\n",
    "\n",
    "What can a list contain? Absolutely anything at all in Python. It can have any combination and any number of different values inside of it. The items in a list remain in the order that you put them in. Traditionally, we only put values of one type in a list. (Python won't enforce this, but it's pretty widespread.)\n",
    "\n",
    "We define a list using `[]`, with commas between the elements. If you just write `[]`, that's known as \"the empty list,\" with zero elements in it."
   ]
  },
  {
   "cell_type": "code",
   "execution_count": 48,
   "metadata": {},
   "outputs": [
    {
     "data": {
      "text/plain": [
       "list"
      ]
     },
     "execution_count": 48,
     "metadata": {},
     "output_type": "execute_result"
    }
   ],
   "source": [
    "mylist = [100, 200, 300]\n",
    "\n",
    "type(mylist)"
   ]
  },
  {
   "cell_type": "markdown",
   "metadata": {},
   "source": [
    "# Lists and strings\n",
    "\n",
    "Both strings and lists are \"sequences\" in the Python world, meaning that they share a lot of functionality. Many things that you can do on a string, you can also do on a list."
   ]
  },
  {
   "cell_type": "code",
   "execution_count": 49,
   "metadata": {},
   "outputs": [
    {
     "data": {
      "text/plain": [
       "11"
      ]
     },
     "execution_count": 49,
     "metadata": {},
     "output_type": "execute_result"
    }
   ],
   "source": [
    "mylist = [10, 20, 30, 40, 50, 100, 200, 300, 400, 550, 1010]\n",
    "\n",
    "len(mylist)  # how many elements are in mylist?"
   ]
  },
  {
   "cell_type": "code",
   "execution_count": null,
   "metadata": {},
   "outputs": [],
   "source": []
  },
  {
   "cell_type": "code",
   "execution_count": 50,
   "metadata": {},
   "outputs": [
    {
     "data": {
      "text/plain": [
       "10"
      ]
     },
     "execution_count": 50,
     "metadata": {},
     "output_type": "execute_result"
    }
   ],
   "source": [
    "mylist[0]   # retrieve the first element"
   ]
  },
  {
   "cell_type": "code",
   "execution_count": 51,
   "metadata": {},
   "outputs": [
    {
     "data": {
      "text/plain": [
       "20"
      ]
     },
     "execution_count": 51,
     "metadata": {},
     "output_type": "execute_result"
    }
   ],
   "source": [
    "mylist[1]  # retrieve the second element"
   ]
  },
  {
   "cell_type": "code",
   "execution_count": 52,
   "metadata": {},
   "outputs": [
    {
     "data": {
      "text/plain": [
       "1010"
      ]
     },
     "execution_count": 52,
     "metadata": {},
     "output_type": "execute_result"
    }
   ],
   "source": [
    "mylist[-1]   # retrieve the final element"
   ]
  },
  {
   "cell_type": "code",
   "execution_count": 53,
   "metadata": {},
   "outputs": [
    {
     "data": {
      "text/plain": [
       "[40, 50, 100, 200, 300]"
      ]
     },
     "execution_count": 53,
     "metadata": {},
     "output_type": "execute_result"
    }
   ],
   "source": [
    "# I can get a slice\n",
    "\n",
    "mylist[3:8]   # from index 3, up to and not including index 8"
   ]
  },
  {
   "cell_type": "code",
   "execution_count": 54,
   "metadata": {},
   "outputs": [
    {
     "name": "stdout",
     "output_type": "stream",
     "text": [
      "10\n",
      "20\n",
      "30\n",
      "40\n",
      "50\n",
      "100\n",
      "200\n",
      "300\n",
      "400\n",
      "550\n",
      "1010\n"
     ]
    }
   ],
   "source": [
    "# I can iterate over a list, too!\n",
    "\n",
    "for one_item in mylist:\n",
    "    print(one_item)"
   ]
  },
  {
   "cell_type": "code",
   "execution_count": 55,
   "metadata": {},
   "outputs": [
    {
     "name": "stdout",
     "output_type": "stream",
     "text": [
      "2710\n"
     ]
    }
   ],
   "source": [
    "total = 0\n",
    "\n",
    "for one_item in mylist:\n",
    "    total += one_item\n",
    "\n",
    "print(total)"
   ]
  },
  {
   "cell_type": "code",
   "execution_count": 56,
   "metadata": {},
   "outputs": [
    {
     "data": {
      "text/plain": [
       "True"
      ]
     },
     "execution_count": 56,
     "metadata": {},
     "output_type": "execute_result"
    }
   ],
   "source": [
    "# search using 'in'\n",
    "\n",
    "50 in mylist"
   ]
  },
  {
   "cell_type": "code",
   "execution_count": 57,
   "metadata": {},
   "outputs": [
    {
     "data": {
      "text/plain": [
       "False"
      ]
     },
     "execution_count": 57,
     "metadata": {},
     "output_type": "execute_result"
    }
   ],
   "source": [
    "5500 in mylist"
   ]
  },
  {
   "cell_type": "code",
   "execution_count": 58,
   "metadata": {},
   "outputs": [
    {
     "data": {
      "text/plain": [
       "False"
      ]
     },
     "execution_count": 58,
     "metadata": {},
     "output_type": "execute_result"
    }
   ],
   "source": [
    "'50' in mylist"
   ]
  },
  {
   "cell_type": "markdown",
   "metadata": {},
   "source": [
    "# Strings and lists are different\n",
    "\n",
    "Strings only contain characters. But they are also *immutable*, meaning that they cannot be changed. Once you define a string, it's defined that way forever, and you have to create a new string to \"change\" it.\n",
    "\n",
    "However, lists are *mutable*, meaning that we can change them:\n",
    "- We can replace existing values with new ones\n",
    "- We can add new values to the list, making it longer than before\n",
    "- We can remove existing values from the list, making it shorter than before\n",
    "\n",
    "None of these is possible with a string.  \n",
    "\n",
    "This makes lists perfect for accumulating data as a program runs. It starts empty (or nearly empty), and grows and grows with whatever information we find.\n",
    "\n",
    "How do we add, remove, and replace items in a list?"
   ]
  },
  {
   "cell_type": "code",
   "execution_count": 59,
   "metadata": {},
   "outputs": [
    {
     "data": {
      "text/plain": [
       "[10, 20, 30, 40, 50, 100, 200, 300, 400, 550, 1010]"
      ]
     },
     "execution_count": 59,
     "metadata": {},
     "output_type": "execute_result"
    }
   ],
   "source": [
    "mylist"
   ]
  },
  {
   "cell_type": "code",
   "execution_count": 60,
   "metadata": {},
   "outputs": [
    {
     "data": {
      "text/plain": [
       "[10, 20, 30, 9999, 50, 100, 200, 300, 400, 550, 1010]"
      ]
     },
     "execution_count": 60,
     "metadata": {},
     "output_type": "execute_result"
    }
   ],
   "source": [
    "mylist[3] = 9999   # this replaces the existing value at that index\n",
    "mylist"
   ]
  },
  {
   "cell_type": "code",
   "execution_count": 61,
   "metadata": {},
   "outputs": [
    {
     "data": {
      "text/plain": [
       "[10, 20, 30, 9999, 50, 100, 200, 300, 400, 550, 1010, 1234, 5678]"
      ]
     },
     "execution_count": 61,
     "metadata": {},
     "output_type": "execute_result"
    }
   ],
   "source": [
    "# how can we add a new value to the list?\n",
    "# the most common way is to use the list.append method, adding a new value to the end of the list\n",
    "\n",
    "mylist.append(1234)\n",
    "mylist.append(5678)\n",
    "mylist"
   ]
  },
  {
   "cell_type": "code",
   "execution_count": 62,
   "metadata": {},
   "outputs": [
    {
     "data": {
      "text/plain": [
       "5678"
      ]
     },
     "execution_count": 62,
     "metadata": {},
     "output_type": "execute_result"
    }
   ],
   "source": [
    "# can I remove an item from a list?\n",
    "# yes, I can use list.pop\n",
    "# - without an argument, list.pop removes + returns the final element\n",
    "# - with an argument, list.pop removes the item at that index\n",
    "\n",
    "mylist.pop()"
   ]
  },
  {
   "cell_type": "code",
   "execution_count": 63,
   "metadata": {},
   "outputs": [
    {
     "data": {
      "text/plain": [
       "[10, 20, 30, 9999, 50, 100, 200, 300, 400, 550, 1010, 1234]"
      ]
     },
     "execution_count": 63,
     "metadata": {},
     "output_type": "execute_result"
    }
   ],
   "source": [
    "mylist"
   ]
  },
  {
   "cell_type": "code",
   "execution_count": 64,
   "metadata": {},
   "outputs": [
    {
     "data": {
      "text/plain": [
       "[10, 20, 30, 9999, 50, 100, 200, 300, 400, 550, 1010]"
      ]
     },
     "execution_count": 64,
     "metadata": {},
     "output_type": "execute_result"
    }
   ],
   "source": [
    "mylist.pop()\n",
    "mylist"
   ]
  },
  {
   "cell_type": "code",
   "execution_count": 65,
   "metadata": {},
   "outputs": [
    {
     "data": {
      "text/plain": [
       "9999"
      ]
     },
     "execution_count": 65,
     "metadata": {},
     "output_type": "execute_result"
    }
   ],
   "source": [
    "mylist.pop(3)"
   ]
  },
  {
   "cell_type": "code",
   "execution_count": 66,
   "metadata": {},
   "outputs": [
    {
     "data": {
      "text/plain": [
       "[10, 20, 30, 50, 100, 200, 300, 400, 550, 1010]"
      ]
     },
     "execution_count": 66,
     "metadata": {},
     "output_type": "execute_result"
    }
   ],
   "source": [
    "mylist"
   ]
  },
  {
   "cell_type": "code",
   "execution_count": 69,
   "metadata": {},
   "outputs": [
    {
     "name": "stdout",
     "output_type": "stream",
     "text": [
      "6\n"
     ]
    },
    {
     "data": {
      "text/plain": [
       "400"
      ]
     },
     "execution_count": 69,
     "metadata": {},
     "output_type": "execute_result"
    }
   ],
   "source": [
    "import random    # use the \"random\" module\n",
    "n = random.randint(0, len(mylist)-1)  # get a random number from the indexes to mylist\n",
    "print(n)\n",
    "mylist.pop(n)   # remove a random element"
   ]
  },
  {
   "cell_type": "markdown",
   "metadata": {},
   "source": [
    "# Exercise: Vowels, digits, and others\n",
    "\n",
    "1. Define three empty lists, `vowels`, `digits`, and `others`.\n",
    "2. Ask the user to enter a text string.\n",
    "3. Go through the string, and for each character, decide:\n",
    "    - Is it a vowel? If so, append to `vowels`\n",
    "    - Is it a digit? If so, append to `digits`\n",
    "    - Otherwise, append to `others`.\n",
    "4. Print all three lists."
   ]
  },
  {
   "cell_type": "code",
   "execution_count": 70,
   "metadata": {},
   "outputs": [
    {
     "name": "stdin",
     "output_type": "stream",
     "text": [
      "Enter text:  hello!! 123\n"
     ]
    },
    {
     "name": "stdout",
     "output_type": "stream",
     "text": [
      "vowels = ['e', 'o']\n",
      "digits = ['1', '2', '3']\n",
      "others = ['h', 'l', 'l', '!', '!', ' ']\n"
     ]
    }
   ],
   "source": [
    "vowels = [] \n",
    "digits = []\n",
    "others = []\n",
    "\n",
    "s = input('Enter text: ').strip()\n",
    "\n",
    "for one_character in s:\n",
    "    if one_character in 'aeiou':      # if one_character is a vowel...\n",
    "        vowels.append(one_character)  # ... append it to the end of vowels\n",
    "    elif one_character.isdigit():     # if one_character is a digit...\n",
    "        digits.append(one_character)  # ... append to the end of digits\n",
    "    else:\n",
    "        others.append(one_character)   # otherwise, append to others\n",
    "\n",
    "print(f'vowels = {vowels}')\n",
    "print(f'digits = {digits}')\n",
    "print(f'others = {others}')\n"
   ]
  },
  {
   "cell_type": "code",
   "execution_count": null,
   "metadata": {},
   "outputs": [],
   "source": [
    "# AI\n",
    "\n",
    "vowels=[]\n",
    "digits=[]\n",
    "others=[]\n",
    "s=input('Type in a string:').strip()\n",
    "for char in s:\n",
    "    if chabr.lower() in 'aeiou':  # Check if it's a vowel\n",
    "        vowels.append(char)\n",
    "    elif char.isdigit():  # Check if it's a digit\n",
    "        digits.append(char)\n",
    "    else:  # Otherwise, classify as 'other'\n",
    "        others.append(char)\n",
    "\n",
    "print(\"Vowels:\", vowels)\n",
    "print(\"Digits:\", digits)\n",
    "print(\"Others:\", others)"
   ]
  },
  {
   "cell_type": "code",
   "execution_count": 71,
   "metadata": {},
   "outputs": [
    {
     "data": {
      "text/plain": [
       "'a    b   c   d'"
      ]
     },
     "execution_count": 71,
     "metadata": {},
     "output_type": "execute_result"
    }
   ],
   "source": [
    "# on the edges, we remove blank spaces with str.strip()\n",
    "\n",
    "s = '      a    b   c   d      '\n",
    "\n",
    "s.strip()"
   ]
  },
  {
   "cell_type": "code",
   "execution_count": 72,
   "metadata": {},
   "outputs": [
    {
     "data": {
      "text/plain": [
       "'abcd'"
      ]
     },
     "execution_count": 72,
     "metadata": {},
     "output_type": "execute_result"
    }
   ],
   "source": [
    "# to remove spaces everywhere, including inside, use str.replace\n",
    "\n",
    "s.replace(' ', '')   # replace spaces with empty string"
   ]
  },
  {
   "cell_type": "code",
   "execution_count": null,
   "metadata": {},
   "outputs": [],
   "source": [
    "# AL\n",
    "\n",
    "\n",
    "characters=input('input please: ').strip()\n",
    "max_range=len(characters)\n",
    "\n",
    "vowels=[]\n",
    "digits=[]\n",
    "others=[]\n",
    "\n",
    "\n",
    "list_vowels=['a,e,i,o,u']\n",
    "\n",
    "\n",
    "for one_character in range(max_range):    \n",
    "    if characters[:one_character+1] in list_vowels:     \n",
    "        vowels.append(characters[:one_character+1])\n",
    "print(vowels)                                         \n",
    "                                                                                                        "
   ]
  },
  {
   "cell_type": "markdown",
   "metadata": {},
   "source": [
    "# Breaking strings apart\n",
    "\n",
    "If we have a string of characters, we might (often) want to turn it into a list. We can do that! Just as we can invoke `int` or `float` on a string to get their types, we can invoke `list` on a string to get a list back."
   ]
  },
  {
   "cell_type": "code",
   "execution_count": 73,
   "metadata": {},
   "outputs": [
    {
     "data": {
      "text/plain": [
       "['a', 'b', 'c', 'd', ' ', 'e', 'f', ' ', 'g', 'h', 'i']"
      ]
     },
     "execution_count": 73,
     "metadata": {},
     "output_type": "execute_result"
    }
   ],
   "source": [
    "s = 'abcd ef ghi'\n",
    "\n",
    "list(s)  # this returns a list of characters"
   ]
  },
  {
   "cell_type": "code",
   "execution_count": 74,
   "metadata": {},
   "outputs": [
    {
     "data": {
      "text/plain": [
       "['abcd', 'ef', 'ghi']"
      ]
     },
     "execution_count": 74,
     "metadata": {},
     "output_type": "execute_result"
    }
   ],
   "source": [
    "# really we wanted to get back a list of three strings, with each being one word in the system\n",
    "# to do that, we use str.split(), which always returns a list of strings\n",
    "\n",
    "s.split(' ')   # return a list of strings, based on s, using ' ' as a separator"
   ]
  },
  {
   "cell_type": "code",
   "execution_count": 75,
   "metadata": {},
   "outputs": [
    {
     "data": {
      "text/plain": [
       "['abcd e', ' ghi']"
      ]
     },
     "execution_count": 75,
     "metadata": {},
     "output_type": "execute_result"
    }
   ],
   "source": [
    "s.split('f')   # what happens now?"
   ]
  },
  {
   "cell_type": "code",
   "execution_count": 77,
   "metadata": {},
   "outputs": [
    {
     "data": {
      "text/plain": [
       "['this', 'is', 'a', 'bunch', 'of', 'words', 'for', 'my', 'class']"
      ]
     },
     "execution_count": 77,
     "metadata": {},
     "output_type": "execute_result"
    }
   ],
   "source": [
    "s = 'this is a bunch of words for my class'\n",
    "\n",
    "s.split(' ')"
   ]
  },
  {
   "cell_type": "code",
   "execution_count": 78,
   "metadata": {},
   "outputs": [
    {
     "data": {
      "text/plain": [
       "['this',\n",
       " '',\n",
       " '',\n",
       " 'is',\n",
       " 'a',\n",
       " '',\n",
       " '',\n",
       " '',\n",
       " '',\n",
       " 'bunch',\n",
       " 'of',\n",
       " '',\n",
       " '',\n",
       " 'words',\n",
       " 'for',\n",
       " '',\n",
       " '',\n",
       " '',\n",
       " 'my',\n",
       " 'class']"
      ]
     },
     "execution_count": 78,
     "metadata": {},
     "output_type": "execute_result"
    }
   ],
   "source": [
    "# here, I say: break every time you see a ' '\n",
    "# but there are places with several in a row...\n",
    "\n",
    "s = 'this   is a     bunch of   words for    my class'\n",
    "\n",
    "s.split(' ')"
   ]
  },
  {
   "cell_type": "code",
   "execution_count": 79,
   "metadata": {},
   "outputs": [
    {
     "data": {
      "text/plain": [
       "['this', 'is', 'a', 'bunch', 'of', 'words', 'for', 'my', 'class']"
      ]
     },
     "execution_count": 79,
     "metadata": {},
     "output_type": "execute_result"
    }
   ],
   "source": [
    "# solution: don't pass an argument to s.split\n",
    "# in such a case, any number of space and space-like characters (e.g., tab and newline)\n",
    "# are treated as a single delimiter.\n",
    "\n",
    "s = 'this   is a     bunch of   words for    my class'\n",
    "\n",
    "s.split()"
   ]
  },
  {
   "cell_type": "code",
   "execution_count": null,
   "metadata": {},
   "outputs": [],
   "source": [
    "# we can also specify '\\t' as a delimited, for tabs\n"
   ]
  },
  {
   "cell_type": "markdown",
   "metadata": {},
   "source": [
    "# Exercise: Pig Latin sentence \n",
    "\n",
    "Last week, we wrote a Pig Latin translator for a single word. Now, I want you to enter a sentence (no punctuation, all lowercase),\n",
    "And print the translation of each word in the sentence into Pig Latin.\n",
    "\n",
    "```python\n",
    "word = input('Enter a word: ')\n",
    "\n",
    "if word[0] in 'aeiou':\n",
    "    print(word + 'way')  \n",
    "else:\n",
    "    print(word[1:] + word[0] + 'way')\n"
   ]
  },
  {
   "cell_type": "code",
   "execution_count": null,
   "metadata": {},
   "outputs": [],
   "source": []
  }
 ],
 "metadata": {
  "kernelspec": {
   "display_name": "Python 3 (ipykernel)",
   "language": "python",
   "name": "python3"
  },
  "language_info": {
   "codemirror_mode": {
    "name": "ipython",
    "version": 3
   },
   "file_extension": ".py",
   "mimetype": "text/x-python",
   "name": "python",
   "nbconvert_exporter": "python",
   "pygments_lexer": "ipython3",
   "version": "3.13.0"
  }
 },
 "nbformat": 4,
 "nbformat_minor": 4
}
